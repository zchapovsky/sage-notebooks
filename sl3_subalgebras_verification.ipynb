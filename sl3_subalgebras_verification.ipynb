{
 "cells": [
  {
   "cell_type": "markdown",
   "id": "1e01b1d5-2db4-4f57-b093-97f159903e0e",
   "metadata": {},
   "source": [
    "# Subalgebras of Lie algebras. Example of $\\mathfrak{sl}_3(\\mathbb R)$ revisited. Computations and verification\n",
    "This notebook contains computations related to the paper [arxiv:2403.02554](https://arxiv.org/abs/2403.02554)\n",
    "that were not included in the manuscript text.\n",
    "We use [Sage](https://www.sagemath.org/) mathematics software system for symbolic computations."
   ]
  },
  {
   "cell_type": "markdown",
   "id": "f498ff11-9d8f-4faf-965e-2e197afdfd45",
   "metadata": {},
   "source": [
    "## Basis of $\\mathfrak{sl_3}(\\mathbb R)$ and preliminaries\n",
    "\n",
    "The real order-three special linear Lie algebra $\\mathfrak{sl}_3(\\mathbb R)$\n",
    "is the algebra of traceless $3\\times3$ matrices with the standard matrix commutator as the Lie bracket\n",
    "and it is spanned by the matrices\n",
    "\\begin{gather*}\n",
    "E_1:=\\begin{pmatrix}\n",
    "0&0&0\\\\\n",
    "1&0&0\\\\\n",
    "0&0&0\n",
    "\\end{pmatrix},\\\n",
    "E_2:=\\frac12\\begin{pmatrix}\n",
    "1& 0&0\\\\\n",
    "0&-1&0\\\\\n",
    "0& 0&0\n",
    "\\end{pmatrix},\\\n",
    "E_3:=\\begin{pmatrix}\n",
    "0&-1&0\\\\\n",
    "0& 0&0\\\\\n",
    "0& 0&0\n",
    "\\end{pmatrix},\\ \n",
    "D:=\\frac16\\begin{pmatrix}\n",
    "1&0& 0\\\\\n",
    "0&1& 0\\\\\n",
    "0&0&-2\n",
    "\\end{pmatrix},\n",
    "\\\\\n",
    "P_1=\\begin{pmatrix}\n",
    "0&0&1\\\\\n",
    "0&0&0\\\\\n",
    "0&0&0\n",
    "\\end{pmatrix},\\quad\n",
    "P_2=\\begin{pmatrix}\n",
    "0&0&0\\\\\n",
    "0&0&1\\\\\n",
    "0&0&0\n",
    "\\end{pmatrix},\\quad\n",
    "R_1=\\begin{pmatrix}\n",
    "0&0&0\\\\\n",
    "0&0&0\\\\\n",
    "0&-1&0\n",
    "\\end{pmatrix},\\quad\n",
    "R_2=\\begin{pmatrix}\n",
    "0&0&0\\\\\n",
    "0&0&0\\\\\n",
    "1&0&0\n",
    "\\end{pmatrix}.\n",
    "\\end{gather*}\n",
    "In this way the algebra $\\mathfrak{sl}_3(\\mathbb R)$ is defined through its\n",
    "faithful irreducible representation of the minimal dimension,\n",
    "which is exactly the vector space $\\mathbb R^3$.\n",
    "Using this representation we need to find all irreducibly and reducibly embedded maximal subalgebras of $\\mathfrak{sl}_3(\\mathbb R)$.\n"
   ]
  },
  {
   "cell_type": "code",
   "execution_count": 11,
   "id": "55480499-2197-462d-a051-4b96fcb15aaf",
   "metadata": {},
   "outputs": [],
   "source": [
    "from IPython.display import display, Math\n",
    "\n",
    "E_1 = Matrix([[0,0,0],\n",
    "              [1,0,0],\n",
    "              [0,0,0]])\n",
    "E_2 = Matrix([[1,0,0],\n",
    "              [0,-1,0],\n",
    "              [0,0,0]]) / 2\n",
    "E_3 = Matrix([[0,-1,0],\n",
    "              [0,0,0],\n",
    "              [0,0,0]])\n",
    "D = Matrix([[1,0,0],\n",
    "            [0,1,0],\n",
    "            [0,0,-2]]) / 6\n",
    "P_1 = Matrix([[0,0,1],\n",
    "              [0,0,0],\n",
    "              [0,0,0]])\n",
    "P_2 = Matrix([[0,0,0],\n",
    "              [0,0,1],\n",
    "              [0,0,0]])\n",
    "R_1 = Matrix([[0,0,0],\n",
    "              [0,0,0],\n",
    "              [0,-1,0]])\n",
    "R_2 = Matrix([[0,0,0],\n",
    "              [0,0,0],\n",
    "              [1,0,0]])\n",
    "\n",
    "#The basis and the corresponding list of symbolic variables\n",
    "BASIS = [E_1, E_2, E_3, D, P_1, P_2, R_1, R_2]\n",
    "BASIS_VARS = SR.var('E_1 E_2 E_3 D P_1 P_2 R_1 R_2')"
   ]
  },
  {
   "cell_type": "markdown",
   "id": "01c54e9b-aed8-4afe-b1b2-7412a100e13f",
   "metadata": {},
   "source": [
    "Next, we define several auxiliary functions.\n",
    "Throughout the text, we denote by 'var_name' the variable with this name appearing in the code."
   ]
  },
  {
   "cell_type": "code",
   "execution_count": 12,
   "id": "20819de4-bb02-4d5b-bea5-2a81b6f16d63",
   "metadata": {},
   "outputs": [],
   "source": [
    "# Provides the linear decomposition of a matrix 'x' in a linearly independent set of matrices 'basis'.\n",
    "\n",
    "def decompose(x, basis=BASIS, basis_vars=BASIS_VARS):\n",
    "    basis_matrix = Matrix([e.list() for e in basis]).T\n",
    "    coef_vars = [SR.var('c_{}'.format(e_var)) for e_var in basis_vars]\n",
    "    lhs = (basis_matrix * vector(coef_vars)).list()\n",
    "    rhs = x.list()\n",
    "    eqs = [t[0] == t[1] for t in zip(lhs, rhs)]\n",
    "    coef_values = solve(eqs, coef_vars)[0]\n",
    "    return sum(c.right()*e for c,e in zip(coef_values, basis_vars))\n",
    "\n",
    "# Displays the commutation relations of the subalgebra spanned by 'basis'.\n",
    "\n",
    "def display_commutation_relations(basis=BASIS, basis_vars=BASIS_VARS):\n",
    "    for i in range(len(basis)):\n",
    "        for j in range(i+1, len(basis)):\n",
    "            x = basis[i]; x_var = basis_vars[i]\n",
    "            y = basis[j]; y_var = basis_vars[j]\n",
    "            commutator_expression = decompose(x*y-y*x, basis, basis_vars)\n",
    "            if commutator_expression != 0:\n",
    "                display(Math('$[{},{}] = {}$'.format(x_var, y_var, commutator_expression)))"
   ]
  },
  {
   "cell_type": "markdown",
   "id": "46262cbe-3ab2-4d8c-b741-27809bab39cf",
   "metadata": {},
   "source": [
    "The commutation relations of $\\mathfrak{sl_3}(\\mathbb R)$ in the chosen basis take the following form:"
   ]
  },
  {
   "cell_type": "code",
   "execution_count": 13,
   "id": "4ebc8cb8-275e-4821-afb0-042e86cb9468",
   "metadata": {},
   "outputs": [
    {
     "data": {
      "text/latex": [
       "$\\displaystyle [E_1,E_2] = E_1$"
      ],
      "text/plain": [
       "<IPython.core.display.Math object>"
      ]
     },
     "metadata": {},
     "output_type": "display_data"
    },
    {
     "data": {
      "text/latex": [
       "$\\displaystyle [E_1,E_3] = 2*E_2$"
      ],
      "text/plain": [
       "<IPython.core.display.Math object>"
      ]
     },
     "metadata": {},
     "output_type": "display_data"
    },
    {
     "data": {
      "text/latex": [
       "$\\displaystyle [E_1,P_1] = P_2$"
      ],
      "text/plain": [
       "<IPython.core.display.Math object>"
      ]
     },
     "metadata": {},
     "output_type": "display_data"
    },
    {
     "data": {
      "text/latex": [
       "$\\displaystyle [E_1,R_1] = R_2$"
      ],
      "text/plain": [
       "<IPython.core.display.Math object>"
      ]
     },
     "metadata": {},
     "output_type": "display_data"
    },
    {
     "data": {
      "text/latex": [
       "$\\displaystyle [E_2,E_3] = E_3$"
      ],
      "text/plain": [
       "<IPython.core.display.Math object>"
      ]
     },
     "metadata": {},
     "output_type": "display_data"
    },
    {
     "data": {
      "text/latex": [
       "$\\displaystyle [E_2,P_1] = 1/2*P_1$"
      ],
      "text/plain": [
       "<IPython.core.display.Math object>"
      ]
     },
     "metadata": {},
     "output_type": "display_data"
    },
    {
     "data": {
      "text/latex": [
       "$\\displaystyle [E_2,P_2] = -1/2*P_2$"
      ],
      "text/plain": [
       "<IPython.core.display.Math object>"
      ]
     },
     "metadata": {},
     "output_type": "display_data"
    },
    {
     "data": {
      "text/latex": [
       "$\\displaystyle [E_2,R_1] = 1/2*R_1$"
      ],
      "text/plain": [
       "<IPython.core.display.Math object>"
      ]
     },
     "metadata": {},
     "output_type": "display_data"
    },
    {
     "data": {
      "text/latex": [
       "$\\displaystyle [E_2,R_2] = -1/2*R_2$"
      ],
      "text/plain": [
       "<IPython.core.display.Math object>"
      ]
     },
     "metadata": {},
     "output_type": "display_data"
    },
    {
     "data": {
      "text/latex": [
       "$\\displaystyle [E_3,P_2] = -P_1$"
      ],
      "text/plain": [
       "<IPython.core.display.Math object>"
      ]
     },
     "metadata": {},
     "output_type": "display_data"
    },
    {
     "data": {
      "text/latex": [
       "$\\displaystyle [E_3,R_2] = -R_1$"
      ],
      "text/plain": [
       "<IPython.core.display.Math object>"
      ]
     },
     "metadata": {},
     "output_type": "display_data"
    },
    {
     "data": {
      "text/latex": [
       "$\\displaystyle [D,P_1] = 1/2*P_1$"
      ],
      "text/plain": [
       "<IPython.core.display.Math object>"
      ]
     },
     "metadata": {},
     "output_type": "display_data"
    },
    {
     "data": {
      "text/latex": [
       "$\\displaystyle [D,P_2] = 1/2*P_2$"
      ],
      "text/plain": [
       "<IPython.core.display.Math object>"
      ]
     },
     "metadata": {},
     "output_type": "display_data"
    },
    {
     "data": {
      "text/latex": [
       "$\\displaystyle [D,R_1] = -1/2*R_1$"
      ],
      "text/plain": [
       "<IPython.core.display.Math object>"
      ]
     },
     "metadata": {},
     "output_type": "display_data"
    },
    {
     "data": {
      "text/latex": [
       "$\\displaystyle [D,R_2] = -1/2*R_2$"
      ],
      "text/plain": [
       "<IPython.core.display.Math object>"
      ]
     },
     "metadata": {},
     "output_type": "display_data"
    },
    {
     "data": {
      "text/latex": [
       "$\\displaystyle [P_1,R_1] = E_3$"
      ],
      "text/plain": [
       "<IPython.core.display.Math object>"
      ]
     },
     "metadata": {},
     "output_type": "display_data"
    },
    {
     "data": {
      "text/latex": [
       "$\\displaystyle [P_1,R_2] = 3*D + E_2$"
      ],
      "text/plain": [
       "<IPython.core.display.Math object>"
      ]
     },
     "metadata": {},
     "output_type": "display_data"
    },
    {
     "data": {
      "text/latex": [
       "$\\displaystyle [P_2,R_1] = -3*D + E_2$"
      ],
      "text/plain": [
       "<IPython.core.display.Math object>"
      ]
     },
     "metadata": {},
     "output_type": "display_data"
    },
    {
     "data": {
      "text/latex": [
       "$\\displaystyle [P_2,R_2] = E_1$"
      ],
      "text/plain": [
       "<IPython.core.display.Math object>"
      ]
     },
     "metadata": {},
     "output_type": "display_data"
    }
   ],
   "source": [
    "display_commutation_relations()"
   ]
  },
  {
   "cell_type": "markdown",
   "id": "786a0920-387c-4bd4-8969-6bfc8b6d1571",
   "metadata": {},
   "source": [
    "## Reducibly embedded subalgebras\n",
    "A maximal subalgebra $\\mathfrak s\\subset\\mathfrak{sl}_3(\\mathbb R)$, which is reducibly embedded,\n",
    "has a proper invariant subspace $V\\subset\\mathbb R^3$.\n",
    "Up to a change of basis we can choose the invariant subspaces $V_1=\\langle (1,0,0),(0,1,0)\\rangle$ and $V_2=\\langle(0,0,1)\\rangle$,\n",
    "thus the maximal subalgebras are\n",
    "\\begin{gather*}\n",
    "\\mathfrak a_1:=\\left\\{\n",
    "\\begin{pmatrix}\n",
    "a_{11}&a_{12}&a_{13}\\\\\n",
    "a_{21}&a_{22}&a_{23}\\\\\n",
    "     0&     0&-a_{11}-a_{22}\n",
    "\\end{pmatrix}\n",
    "\\mid a_{i,j}\\in\\mathbb R\n",
    "\\right\\}\n",
    "=\\langle E_1,E_2,E_3,D,P_1,P_2\\rangle,\n",
    "\\\\\n",
    "\\mathfrak a_2:=\\left\\{\n",
    "\\begin{pmatrix}\n",
    "a_{11}&a_{12}&0\\\\\n",
    "a_{21}&a_{22}&0\\\\\n",
    "a_{31}&a_{32}&-a_{11}-a_{22}\n",
    "\\end{pmatrix}\n",
    "\\mid a_{i,j}\\in\\mathbb R\n",
    "\\right\\}\n",
    "=\\langle E_1,E_2,E_3,D,R_1,R_2\\rangle.\n",
    "\\end{gather*}\n",
    "Both the subalgebras $\\mathfrak a_1$ and $\\mathfrak a_2$ are isomorphic to the rank-two real affine Lie algebra\n",
    "$\\mathfrak{aff}_2(\\mathbb R)=\\mathfrak{gl}_2(\\mathbb R)\\ltimes \\mathbb R^2$,\n",
    "where the algebra $\\mathfrak{gl}_2(\\mathbb R)$ is spanned by the matrices\n",
    "\\begin{gather*}\n",
    "e_1=\n",
    "\\begin{pmatrix}\n",
    "0&0\\\\\n",
    "1&0\n",
    "\\end{pmatrix},\\quad\n",
    "e_2=\\frac12\n",
    "\\begin{pmatrix}\n",
    "1& 0\\\\\n",
    "0&-1\n",
    "\\end{pmatrix},\\quad\n",
    "e_3=\n",
    "\\begin{pmatrix}\n",
    "0&-1\\\\\n",
    "0&0\n",
    "\\end{pmatrix},\\quad\n",
    "e_4=\\frac12\n",
    "\\begin{pmatrix}\n",
    "1&0\\\\\n",
    "0&1\n",
    "\\end{pmatrix}\n",
    "\\end{gather*}\n",
    "and the space $\\mathbb R^2=\\langle f_1,f_2\\rangle$,\n",
    "where $f_1=(1,0)^{\\mathsf T}$, $f_2=(0,1)^{\\mathsf T}$,\n",
    "is considered as a two-dimensional abelian Lie algebra,\n",
    "and the action of $\\mathfrak{gl}_2(\\mathbb R)$ on $\\mathbb R^2$\n",
    "is given by the natural faithful representation on $\\mathbb R^2$.\n",
    "Up to the skew-symmetry of the Lie brackets, the nontrivial commutation relations in $\\mathfrak{aff}_2(\\mathbb R)$\n",
    "are exhausted by\n",
    "\\begin{gather*}\n",
    "[e_1,e_2]=e_1,\\quad\n",
    "[e_2,e_3]=e_3,\\quad\n",
    "[e_1,e_3]=2e_2,\n",
    "\\\\\n",
    "[e_1,f_1]=f_2,\\quad\n",
    "[e_2,f_1]=\\frac12f_1,\\quad\n",
    "[e_2,f_2]=-\\frac12f_2,\\quad\n",
    "[e_3,f_2]=-f_1,\n",
    "\\\\\n",
    "[e_4,f_1]=\\frac12f_1,\\quad\n",
    "[e_4,f_2]=\\frac12f_2.\n",
    "\\end{gather*}\n",
    "\n",
    "The isomorphism between the Lie algebras $\\mathfrak{aff}_2(\\mathbb R)$ and $\\mathfrak a_1$ is given by a linear map defined on the chosen bases of the algebras via the correspondence \n",
    "$\\rho_1 \\colon (e_1,e_2,e_3,e_4,f_1,f_2)\\mapsto(E_1,E_2,E_3,D,P_1,P_2)$, between $\\mathfrak{aff}_2(\\mathbb R)$ and $\\mathfrak a_2$ via the correspondence\n",
    "$\\rho_2 \\colon (e_1,e_2,e_3,e_4,f_1,f_2)\\mapsto(E_1,E_2,E_3,-D,R_1,R_2)$, as can be seen from the commutator table of $\\mathfrak{sl_3}(\\mathbb R)$\n",
    "in the chosen basis.\n",
    "\n",
    "Therefore, applying these isomorphisms to the list from Theorem 11, \n",
    "we obtain the lists of inequivalent subalgebras of $\\mathfrak a_1$ and $\\mathfrak a_2$ up to the corresponding inner automorphism groups.\n",
    "\n",
    "**Theorem** 11:\n",
    "\n",
    "_A complete list of inequivalent proper subalgebras of the algebra $\\mathfrak{aff}_2(\\mathbb R)$\n",
    "is exhausted by the following subalgebras_:\n",
    "\n",
    "\\begin{align*}\n",
    "1{\\rm D}\\colon\\ &\n",
    "\\mathfrak s_{1.1}            =\\langle f_1\\rangle,\\ \\\n",
    "\\mathfrak s_{1.2}^{\\delta}  =\\langle e_1+\\delta f_1\\rangle,\\ \\\n",
    "\\mathfrak s_{1.3}            =\\langle e_4\\rangle,\\ \\\n",
    "\\mathfrak s_{1.4}^\\kappa     =\\langle e_2+\\kappa e_4\\rangle,\\\\\n",
    "\\hphantom{1{\\rm D}\\colon\\ }&\n",
    "\\mathfrak s_{1.5}            =\\langle e_2+e_4+f_2\\rangle,\\ \\\n",
    "\\mathfrak s_{1.6}^\\varepsilon=\\langle e_1+\\varepsilon e_4\\rangle,\\ \\\n",
    "\\mathfrak s_{1.7}^\\gamma     =\\langle e_1+e_3+\\gamma e_4\\rangle,\\ \\\n",
    "\\\\[1ex]\n",
    "2{\\rm D}\\colon\\ &\n",
    "\\mathfrak s_{2.1}          =\\langle f_1,f_2\\rangle,\\ \\\n",
    "\\mathfrak s_{2.2}^{\\delta}=\\langle e_1+\\delta f_1,f_2\\rangle,\\ \\\n",
    "\\mathfrak s_{2.3}          =\\langle e_4,f_1\\rangle,\\ \\\n",
    "\\mathfrak s_{2.4}^\\kappa   =\\langle e_2+\\kappa e_4,f_1\\rangle,\\ \\\n",
    "\\\\\n",
    "\\hphantom{2{\\rm D}\\colon\\ }&\n",
    "\\mathfrak s_{2.5}^{\\kappa'}=\\langle e_2+\\kappa' e_4,f_2\\rangle,\\ \\\n",
    "\\mathfrak s_{2.6}          =\\langle e_2+e_4+f_2,f_1\\rangle,\\ \\\n",
    "\\mathfrak s_{2.7}^\\varepsilon=\\langle e_1+\\varepsilon e_4,f_2\\rangle,\\ \\\n",
    "\\\\\n",
    "\\hphantom{2{\\rm D}\\colon\\ }&\n",
    "\\mathfrak s_{2.8}            =\\langle e_1,e_4\\rangle,\\ \\\n",
    "\\mathfrak s_{2.9}            =\\langle e_2,e_4\\rangle,\\ \\\n",
    "\\mathfrak s_{2.10}           =\\langle e_1+e_3,e_4\\rangle,\\ \\\n",
    "\\mathfrak s_{2.11}^\\gamma    =\\langle e_2+\\gamma e_4,e_1\\rangle,\\ \\\n",
    "\\\\\n",
    "\\hphantom{2{\\rm D}\\colon\\ }&\n",
    "\\mathfrak s_{2.12}          =\\langle e_2+ e_4+f_2,e_1\\rangle,\\ \\\n",
    "\\mathfrak s_{2.13}            =\\langle e_2-3e_4,e_1+f_1\\rangle,\n",
    "\\\\[1ex]\n",
    "3{\\rm D}\\colon\\ &\n",
    "\\mathfrak s_{3.1}            =\\langle e_1,f_1,f_2\\rangle,\\ \\\n",
    "\\mathfrak s_{3.2}            =\\langle e_4,f_1,f_2\\rangle,\\ \\\n",
    "\\mathfrak s_{3.3}^\\kappa     =\\langle e_2+\\kappa e_4,f_1,f_2\\rangle,\\ \\\n",
    "\\\\\n",
    "\\hphantom{3{\\rm D}\\colon\\ }&\n",
    "\\mathfrak s_{3.4}^\\varepsilon=\\langle e_1+\\varepsilon e_4,f_1,f_2\\rangle,\\ \\\n",
    "\\mathfrak s_{3.5}^\\gamma     =\\langle e_1+e_3+\\gamma e_4,f_1,f_2\\rangle,\\ \\\n",
    "\\mathfrak s_{3.6}            =\\langle e_1,e_4,f_2\\rangle,\\ \\\n",
    "\\\\\n",
    "\\hphantom{3{\\rm D}\\colon\\ }&\n",
    "\\mathfrak s_{3.7}            =\\langle e_2,e_4,f_1\\rangle,\\ \\\n",
    "\\mathfrak s_{3.8}^\\gamma     =\\langle e_2+\\gamma e_4,e_1,f_2\\rangle,\\ \\\n",
    "\\mathfrak s_{3.9}            =\\langle e_2-3e_4, e_1+f_1, f_2\\rangle,\\ \\\n",
    "\\\\\n",
    "\\hphantom{3{\\rm D}\\colon\\ }&\n",
    "\\mathfrak s_{3.10}           =\\langle e_1,e_2,e_4\\rangle,\\ \\\n",
    "\\mathfrak s_{3.11}           =\\langle e_1,e_2,e_3\\rangle,\n",
    "\\\\[1ex]\n",
    "4{\\rm D}\\colon\\ &\n",
    "\\mathfrak s_{4.1}        =\\langle e_1,e_4,f_1,f_2\\rangle,\\ \\\n",
    "\\mathfrak s_{4.2}        =\\langle e_2,e_4,f_1,f_2\\rangle,\\ \\\n",
    "\\mathfrak s_{4.3}        =\\langle e_1+e_3,e_4,f_1,f_2\\rangle,\n",
    "\\\\\n",
    "\\hphantom{4{\\rm D}\\colon\\ }&\n",
    "\\mathfrak s_{4.4}^\\gamma =\\langle e_2+\\gamma e_4,e_1,f_1,f_2\\rangle,\\ \\\n",
    "\\mathfrak s_{4.5}        =\\langle e_1,e_2,e_4,f_2\\rangle,\\ \\\n",
    "\\mathfrak s_{4.6}        =\\langle e_1,e_2,e_3,e_4\\rangle,\n",
    "\\\\[1ex]\n",
    "5{\\rm D}\\colon\\ &\n",
    "\\mathfrak s_{5.1}=\\langle e_1,e_2,e_4,f_1,f_2\\rangle,\\ \\\n",
    "\\mathfrak s_{5.2}=\\langle e_1,e_2,e_3,f_1,f_2\\rangle,\n",
    "\\end{align*}\n",
    "_where $\\varepsilon\\in\\{-1,1\\}$, $\\delta\\in\\{0,1\\}$, $\\kappa\\geqslant0$, $\\kappa'>0$ and $\\gamma\\in\\mathbb R$_."
   ]
  },
  {
   "cell_type": "code",
   "execution_count": 14,
   "id": "e9bf3071-9b75-4a4c-808e-a7570b4f5c28",
   "metadata": {},
   "outputs": [],
   "source": [
    "from collections import defaultdict\n",
    "\n",
    "aff2_BASIS_VARS = var('e_1 e_2 e_3 e_4 f_1 f_2')\n",
    "\n",
    "PARAMS = list(var('ε δ κ κ_1 γ'))\n",
    "\n",
    "PARAMS_ASSUMPTIONS = defaultdict(lambda: lambda x: x.is_real())\n",
    "PARAMS_ASSUMPTIONS[ϵ] = lambda x: x in [-1, 1]\n",
    "PARAMS_ASSUMPTIONS[δ] = lambda x: x in [0, 1]\n",
    "PARAMS_ASSUMPTIONS[κ] = lambda x: x.is_real() and x >= 0\n",
    "PARAMS_ASSUMPTIONS[κ_1] = lambda x: x.is_real() and x > 0\n",
    "\n",
    "s_1_bases = [[f_1], [e_1 + δ*f_1], [e_4], [e_2 + κ*e_4], [e_2 + e_4 + f_2], [e_1 + ε*e_4], [e_1 + e_3 + γ*e_4]]\n",
    "\n",
    "s_2_bases = [[f_1,f_2], [e_1 + δ*f_1, f_2], [e_4, f_1], [e_2 + κ*e_4, f_1], [e_2 + κ_1*e_4, f_2],\n",
    "            [e_2 + e_4 + f_2, f_1], [e_1 + ε*e_4, f_2], [e_1, e_4], [e_2, e_4], [e_1 + e_3, e_4],\n",
    "            [e_2 + γ*e_4, e_1], [e_2 + e_4 + f_2, e_1], [e_2 - 3*e_4, e_1 + f_1]]\n",
    "\n",
    "s_3_bases = [[e_1, f_1 ,f_2], [e_4, f_1, f_2], [e_2 + κ*e_4, f_1, f_2], [e_1 + ε*e_4, f_1, f_2],\n",
    "            [e_1 + e_3 + γ*e_4, f_1, f_2], [e_1, e_4, f_2], [e_2, e_4, f_1], \n",
    "            [e_2 + γ*e_4, e_1, f_2], [e_2 - 3*e_4, e_1 + f_1, f_2], [e_1, e_2, e_4], [e_1, e_2, e_3]]\n",
    "\n",
    "s_4_bases = [[e_1, e_4, f_1, f_2], [e_2, e_4, f_1, f_2], [e_1 + e_3, e_4, f_1, f_2], \n",
    "             [e_2 + γ*e_4, e_1, f_1, f_2], [e_1, e_2, e_4, f_2], [e_1, e_2, e_3, e_4]]\n",
    "\n",
    "s_5_bases = [[e_1, e_2, e_4, f_1, f_2], [e_1, e_2, e_3, f_1, f_2]]\n"
   ]
  },
  {
   "cell_type": "markdown",
   "id": "6c60248c-003a-49f9-afc0-8969ea64e927",
   "metadata": {},
   "source": [
    "These lists may contain subalgebras that are conjugate modulo the action of the Lie group ${\\rm SL}_3(\\mathbb R)$.\n",
    "Therefore, our next task is to identify all such subalgebras in the lists and get rid of all but one of them.\n",
    "To this end, we start by identifying which subalgebras of $\\mathfrak a_1$ are ${\\rm SL}_3(\\mathbb R)$-inequivalent.\n",
    "Then we add to the obtained list the subalgebras of $\\mathfrak a_2$ that are inequivalent under the action of ${\\rm SL}_3(\\mathbb R)$ \n",
    "and not equivalent to any subalgebra of $\\mathfrak a_1$.\n",
    "\n",
    "Consequently, a complete list of inequivalent subalgebras of $\\mathfrak a_1$ (with respect to the action of its inner automorphism group)\n",
    "constituted by the subalgebras $\\hat{\\mathfrak s}_{i.j}^*:=\\rho_1\\mathfrak s_{i.j}^*$,\n",
    "where $\\mathfrak s_{i.j}^*$ are subalgebras listed in Theorem 11.\n",
    "To find out which subalgebras among $\\hat{\\mathfrak s}_{i.j}^*$\n",
    "are equivalent under the action of the group ${\\rm SL}_3(\\mathbb R)$, we use the following elementary observation,\n",
    "which is a specific case of the general approach discussed in Section 2.1 of the manuscript, see Proposition 1 and Remark 2.\n",
    "\n",
    "**Proposition** 1:\n",
    "\n",
    "_Let $\\mathfrak{m} \\subset \\mathfrak{g}$ be a Lie subalgebra, $M \\subset G$ the corresponding\n",
    "Lie subgroup. Choose some subset $C \\subset G$ such that $MC = G$.\n",
    "Then Lie subalgebras $\\mathfrak{h}_1 \\subset \\mathfrak{m}$ and $\\mathfrak{h}_2 \\subset \\mathfrak{g}$\n",
    "are conjugate if and only if there exists an element $g \\in C$ such that\n",
    "$\\mathrm{Ad}_g\\mathfrak{h}_2\\subset\\mathfrak{m}$ and moreover $\\mathrm{Ad}_g\\mathfrak{h}_2$\n",
    "is equivalent to $\\mathfrak{h}_1$ up to $\\mathrm{Inn}(\\mathfrak{m})$-equivalence_.\n",
    "\n",
    "\n",
    "**Lemma** 18:\n",
    "\n",
    "_Any matrix $S$ from ${\\rm SL}_3(\\mathbb R)$ can be decomposed into a product of matrices $A\\in H\\subset{\\rm SL}_3(\\mathbb R)$ and $M$, $S=AM$,\n",
    "where $H$ is isomorphic to the group ${\\rm Aff}_2(\\mathbb R)$,\n",
    "\\begin{gather*}\n",
    "H:=\\left\\{\\begin{pmatrix}\n",
    "a & b & x\\\\\n",
    "c & d & y\\\\\n",
    "0 & 0 & (ad-bc)^{-1}\n",
    "\\end{pmatrix}\n",
    "\\Bigm\\vert\n",
    "a,b,c,d,x,y\\in\\mathbb R~\\text{such that}~ad-bc\\ne0\\right\\},\n",
    "\\end{gather*}\n",
    "and $M$ is of one of the following forms:\n",
    "\\begin{gather*}\n",
    "M_1(c_1,c_2):=\n",
    "\\begin{pmatrix}\n",
    "1   & 0   & 0\\\\\n",
    "0   & 1   & 0\\\\\n",
    "c_1 & c_2 & 1\n",
    "\\end{pmatrix},\n",
    "\\ \n",
    "M_2(c_1,c_2):=\n",
    "\\begin{pmatrix}\n",
    "-1  & 0   & 0\\\\\n",
    " 0  & 0   & 1\\\\\n",
    "c_1 & 1   & c_2\n",
    "\\end{pmatrix},\n",
    "\\ \n",
    "M_3(c_1,c_2):=\n",
    "\\begin{pmatrix}\n",
    "0  & 0   & -1\\\\\n",
    "0  & 1   &  0\\\\\n",
    "1  & c_1 & c_2\n",
    "\\end{pmatrix},\n",
    "\\end{gather*}\n",
    "where the parameters $c_1$ and $c_2$ are arbitrary real numbers_."
   ]
  },
  {
   "cell_type": "code",
   "execution_count": 15,
   "id": "2fa76a3f-8ebc-4e9a-961a-822eea4bcf0d",
   "metadata": {},
   "outputs": [],
   "source": [
    "# Takes a parametrized 3x3 matrix and returns the corresponding parameter relations\n",
    "\n",
    "def restrict_to_a1(A):\n",
    "    eqs = [A[2,0] == 0, A[2,1] == 0]\n",
    "    return eqs\n",
    "\n",
    "def restrict_to_a2(A):\n",
    "    eqs = [A[0,2] == 0, A[1,2] == 0]\n",
    "    return eqs\n",
    "\n",
    "# Acts on 'basis' by the elements of the set 'M' and put on 'restriction' on the result.\n",
    "# Returns a list of triples (m, params_values, image_basis)\n",
    "\n",
    "def restrict_M_images(basis, restriction, M, params, sl3_basis=BASIS, sl3_basis_vars=BASIS_VARS):\n",
    "    import re\n",
    "    \n",
    "    result = []\n",
    "    \n",
    "    for m in M:\n",
    "        basis_image = [(m*v*m^(-1)).simplify_full() \n",
    "                        for v in basis]\n",
    "        \n",
    "        eqs = sum((restriction(v) \n",
    "                   for v in basis_image), \n",
    "                  [])\n",
    "        \n",
    "        local_vars = sum((list(eq.variables()+m.variables())\n",
    "                          for eq in eqs), \n",
    "                         [])\n",
    "        \n",
    "        local_params = [p for p in params \n",
    "                        if p in local_vars]\n",
    "\n",
    "        params_solutions = solve(eqs, *local_params, domain='real')\n",
    "\n",
    "        # In case when parameter p is arbitrary, the solutions contain an entry of the form 'p = r{d}', which we disregard.\n",
    "        \n",
    "        clean_params_solutions = []\n",
    "        arbitrary_constant_solutions = []\n",
    "        \n",
    "        for s in params_solutions:\n",
    "            clean_solution = []\n",
    "            for e in s:\n",
    "                if not re.fullmatch(r'r[0-9]+', str(e.right())):\n",
    "                    clean_solution.append(e)\n",
    "                else:\n",
    "                    arbitrary_constant_solutions.append(e.right() == e.left())\n",
    "            \n",
    "            clean_params_solutions.append([s.subs(arbitrary_constant_solutions) for s in clean_solution])\n",
    "        \n",
    "        for s in clean_params_solutions:\n",
    "            if all(PARAMS_ASSUMPTIONS[e.left()](e.right()) for e in s): # Checking whether the constraints on parameters are satisfied\n",
    "                result.append((m, s, [decompose(v.subs(s), sl3_basis, sl3_basis_vars) \n",
    "                                      for v in basis_image]))\n",
    "\n",
    "    return result\n",
    "\n",
    "def display_solution(m, params_solution, image_basis):\n",
    "    m = m.subs(params_solution)\n",
    "    subalgebra_params_solution = [e for e in params_solution\n",
    "                                  if e.left() in PARAMS]\n",
    "    if subalgebra_params_solution:\n",
    "        display(Math('\\\\text{In the case } '+latex(tuple(subalgebra_params_solution), combine_all=True)+','))\n",
    "    else:\n",
    "        display(Math('\\\\text{For arbitrary subalgebra parameters,}'))\n",
    "    display(Math('\\\\text{acting by the matrix} '+ latex(m) + '\\\\text{, we obtain the subalgebra \\\\;}'+ \n",
    "                 '\\\\left<{}\\\\right>.'.format(',\\\\; '.join(map(latex, image_basis)))))\n",
    "\n",
    "# Sage does not support direct substitution of matrices into expressions\n",
    "def substitute_matrices(poly_expr, subs):\n",
    "    polynomial = poly_expr.polynomial(SR)(**subs)\n",
    "    try:\n",
    "        variable_names =  polynomial.base_ring().variable_names()\n",
    "    except:\n",
    "        variable_names = []\n",
    "    return polynomial(*[SR.var(p) for p in variable_names])\n",
    "\n",
    "a1_subs = {'e_1': E_1, 'e_2': E_2, 'e_3': E_3, 'e_4': D, 'f_1': P_1, 'f_2': P_2}\n",
    "\n",
    "c_1, c_2 = SR.var('c_1 c_2')\n",
    "\n",
    "M = [Matrix([[1, 0, 0],\n",
    "             [0, 1, 0],\n",
    "             [c_1, c_2, 1]]), \n",
    "     Matrix([[-1, 0, 0],\n",
    "             [0, 0, 1],\n",
    "             [c_1, 1, c_2]]),\n",
    "     Matrix([[0, 0, -1],\n",
    "             [0, 1, 0],\n",
    "             [1, c_1, c_2]])]\n",
    "\n",
    "#s_1_4 = [E_2 + κ*D]\n",
    "#s_1_7 = [E_1 + E_3 + γ*D]\n",
    "#s_2_11 = [E_2 + γ*D, E_1]\n",
    "#s_3_8 = [E_2 + γ*D, E_1, P_2]\n",
    "\n",
    "#solutions = restrict_M_images(s_1_4, restrict_to_a1, M, PARAMS+[c_1, c_2])\n",
    "#for m, s, image in solutions:\n",
    "#    display_solution(m, s, image)\n"
   ]
  },
  {
   "cell_type": "markdown",
   "id": "1ebfdad0-f4e1-4854-a9a4-c7bd9a068b14",
   "metadata": {},
   "source": [
    "**Corollary** 19:\n",
    "\n",
    "_Among the subalgebras of $\\mathfrak a_1$ the following are inequivalent with respect to the action of ${\\rm SL}_3(\\mathbb R)$:\n",
    "\\begin{align*}\n",
    "&1{\\rm D}\\colon\\\n",
    "\\langle E_1+\\delta P_1\\rangle,\\ \\\n",
    "\\langle E_1+E_3+\\gamma D\\rangle,\\ \\\n",
    "\\langle E_2+\\mu'D\\rangle,\\ \\\n",
    "\\langle E_1+D\\rangle,\n",
    "\\\\[0.5ex]\n",
    "&2{\\rm D}\\colon\\\n",
    "\\langle P_1,P_2\\rangle,\\ \\\n",
    "\\langle E_1+\\delta P_1,P_2\\rangle,\\ \\\n",
    "\\langle E_2+D+P_2,P_1\\rangle,\\ \\\n",
    "\\langle E_1+D,P_2\\rangle,\n",
    "\\\\\n",
    "&\\hphantom{2{\\rm D}\\colon\\ }\n",
    "\\langle E_1,D\\rangle,\\ \\\n",
    "\\langle E_2,D\\rangle,\\ \\\n",
    "\\langle E_1+E_3,D\\rangle,\\ \\\n",
    "\\langle E_2+\\gamma D,E_1\\rangle,\\ \\\n",
    "\\langle E_2-3D,E_1+P_1\\rangle,\n",
    "\\\\[0.5ex]\n",
    "&3{\\rm D}\\colon\\\n",
    "\\langle E_1,P_1,P_2\\rangle,\\ \\\n",
    "\\langle D,P_1,P_2\\rangle,\\ \\\n",
    "\\langle E_2+\\kappa D,P_1,P_2\\rangle,\\ \\\n",
    "\\langle E_1+\\varepsilon D,P_1,P_2\\rangle,\n",
    "\\\\\n",
    "&\\hphantom{3{\\rm D}\\colon\\ }\n",
    "\\langle E_1+E_3+\\gamma D,P_1,P_2\\rangle,\\ \\\n",
    "\\langle E_2+\\mu D,E_1,P_2\\rangle,\\ \\\n",
    "\\langle E_2-3D, E_1+P_1,P_2\\rangle,\\ \\\n",
    "\\\\\n",
    "&\\hphantom{3{\\rm D}\\colon\\ }\n",
    "\\langle E_1,E_2,D\\rangle,\\ \\\n",
    "\\langle E_1,E_2,E_3\\rangle,\n",
    "\\\\[0.5ex]\n",
    "&4{\\rm D}\\colon\\ \n",
    "\\langle E_1,D,P_1,P_2\\rangle,\\ \\\n",
    "\\langle E_2,D,P_1,P_2\\rangle,\\ \\\n",
    "\\langle E_1\\!+\\!E_3,D,P_1,P_2\\rangle,\\ \\ \n",
    "\\langle E_2\\!+\\!\\gamma D,E_1,P_1,P_2\\rangle,\n",
    "\\\\\n",
    "&\\hphantom{4{\\rm D}\\colon\\ }\n",
    "\\langle E_1,E_2,D,P_2\\rangle,\\ \\\n",
    "\\langle E_1,E_2,E_3,E_4\\rangle,\n",
    "\\\\[0.5ex]\n",
    "&5{\\rm D}\\colon\\\n",
    "\\langle E_1,E_2,D,P_1,P_2\\rangle,\\ \\\n",
    "\\langle E_1,E_2,E_3,P_1,P_2\\rangle,\n",
    "\\end{align*}\n",
    "where $\\varepsilon\\in\\{-1,1\\}$,\n",
    "$\\delta\\in\\{0,1\\}$,\n",
    "$\\kappa\\geqslant0$,\n",
    "$\\mu\\in[-1,3]$,\n",
    "$\\mu'\\in[0,1]$\n",
    "and $\\gamma\\in\\mathbb R$_.\n",
    "\n",
    "*Proof*. \n",
    "\n",
    "$\\boldsymbol{1\\rm D.}$\n",
    "\n",
    "Among the one-dimensional subalgebras of $\\mathfrak a_1$\n",
    "the subalgebras $\\hat{\\mathfrak s}_{1.2}^{\\delta}$,\n",
    "$\\hat{\\mathfrak s}_{1.7}^\\gamma$,\n",
    "$\\hat{\\mathfrak s}_{1.4}^\\kappa$ with $\\kappa\\geqslant0$\n",
    "and $\\hat{\\mathfrak s}_{1.6}^1$\n",
    "are inequivalent since their generators have different (real) Jordan normal forms.\n",
    "Moreover, the chosen generators of the subalgebras exhaust all the possible real Jordan forms of three-by-three matrices,\n",
    "so this list contains within itself the list of ${\\rm SL}_3(\\mathbb R)$-inequivalent subalgebras.\n",
    "The only conjugation can take place within the subalgebras of the families parameterized by real parameters,\n",
    "i.e., $\\hat{\\mathfrak s}_{1.7}^\\gamma$ and $\\hat{\\mathfrak s}_{1.4}^\\kappa$ with $\\kappa\\geqslant0$,\n",
    "this is why these two cases deserve further investigation.\n",
    "\n",
    "\n",
    "\n",
    "For any fixed $\\gamma\\in\\mathbb R$, the set $M(\\hat{\\mathfrak s}_{1.7}^\\gamma)$ contains no subalgebras of $\\mathfrak a_1$ except\n",
    "the subalgebra $\\hat{\\mathfrak s}_{1.7}^\\gamma$ itself.\n",
    "This is why there is no equivalence between $\\hat{\\mathfrak s}_{1.7}^\\gamma$ and $\\hat{\\mathfrak s}_{1.7}^{\\gamma'}$ with $\\gamma\\ne\\gamma'$.\n",
    "\n",
    "\n",
    "\n",
    "The only subalgebra of $\\mathfrak a_1$ that is contained in the set $M(\\hat{\\mathfrak s}_{1.4}^1)\\setminus\\{\\hat{\\mathfrak s}_{1.4}^1\\}$\n",
    "is the subalgebra $\\mathfrak s_{1.3}$.\n",
    "\n",
    "\n",
    "\n",
    "As for the remaining subalgebras from the family $\\hat{\\mathfrak s}_{1.4}^\\kappa$,\n",
    "for any fixed $\\kappa$ with $\\kappa\\ne1$, the set $M(\\hat{\\mathfrak s}_{1.4}^\\kappa)\\setminus\\{\\hat{\\mathfrak s}_{1.4}^\\kappa\\}$\n",
    "contains only two subalgebras of $\\mathfrak a_1$.\n",
    "These subalgebras are $\\hat{\\mathfrak s}_{1.4}^{\\tilde\\kappa}$ with $\\tilde\\kappa=\\frac{\\kappa+3}{\\kappa-1}$\n",
    "and $\\hat{\\mathfrak s}_{1.4}^{\\hat\\kappa}$ with $\\hat\\kappa=-\\frac{\\kappa-3}{\\kappa+1}$.\n",
    "The equivalences  $\\hat{\\mathfrak s}_{1.4}^{\\kappa}\\sim\\hat{\\mathfrak s}_{1.4}^{\\tilde\\kappa}\\sim\\hat{\\mathfrak s}_{1.4}^{\\hat\\kappa}$\n",
    "allows us to gauge the range of $\\kappa$ to the set $[0,1)$.\n",
    "\n",
    "\n",
    "Summing up, the ${\\rm SL}_3(\\mathbb R)$-inequivalent one-dimensional subalgebras of $\\mathfrak a_1$ are\n",
    "$\\hat{\\mathfrak s}_{1.2}^{\\delta}$,\n",
    "$\\hat{\\mathfrak s}_{1.7}^\\gamma$,\n",
    "$\\hat{\\mathfrak s}_{1.4}^{\\mu'}$ with $\\mu'\\in[0,1]$\n",
    "and $\\hat{\\mathfrak s}_{1.6}^1$.\n"
   ]
  },
  {
   "cell_type": "code",
   "execution_count": 16,
   "id": "9906e059-fef1-4f34-9fe9-977dc4e0dac8",
   "metadata": {},
   "outputs": [
    {
     "data": {
      "text/latex": [
       "$\\displaystyle \\text{Consider the case }\\mathfrak s^*_{1.1}= \\left<P_{1}\\right>.$"
      ],
      "text/plain": [
       "<IPython.core.display.Math object>"
      ]
     },
     "metadata": {},
     "output_type": "display_data"
    },
    {
     "data": {
      "text/latex": [
       "$\\displaystyle \\text{For arbitrary subalgebra parameters,}$"
      ],
      "text/plain": [
       "<IPython.core.display.Math object>"
      ]
     },
     "metadata": {},
     "output_type": "display_data"
    },
    {
     "data": {
      "text/latex": [
       "$\\displaystyle \\text{acting by the matrix} \\left(\\begin{array}{rrr}\n",
       "1 & 0 & 0 \\\\\n",
       "0 & 1 & 0 \\\\\n",
       "0 & c_{2} & 1\n",
       "\\end{array}\\right) \\text{, we obtain the subalgebra \\;} \\left<E_{3} c_{2} + P_{1}\\right>.$"
      ],
      "text/plain": [
       "<IPython.core.display.Math object>"
      ]
     },
     "metadata": {},
     "output_type": "display_data"
    },
    {
     "data": {
      "text/latex": [
       "$\\displaystyle \\text{For arbitrary subalgebra parameters,}$"
      ],
      "text/plain": [
       "<IPython.core.display.Math object>"
      ]
     },
     "metadata": {},
     "output_type": "display_data"
    },
    {
     "data": {
      "text/latex": [
       "$\\displaystyle \\text{acting by the matrix} \\left(\\begin{array}{rrr}\n",
       "-1 & 0 & 0 \\\\\n",
       "0 & 0 & 1 \\\\\n",
       "0 & 1 & c_{2}\n",
       "\\end{array}\\right) \\text{, we obtain the subalgebra \\;} \\left<E_{3}\\right>.$"
      ],
      "text/plain": [
       "<IPython.core.display.Math object>"
      ]
     },
     "metadata": {},
     "output_type": "display_data"
    },
    {
     "name": "stdout",
     "output_type": "stream",
     "text": [
      "\n",
      "\n",
      "\n",
      "\n"
     ]
    },
    {
     "data": {
      "text/latex": [
       "$\\displaystyle \\text{Consider the case }\\mathfrak s^*_{1.2}= \\left<P_{1} δ + E_{1}\\right>.$"
      ],
      "text/plain": [
       "<IPython.core.display.Math object>"
      ]
     },
     "metadata": {},
     "output_type": "display_data"
    },
    {
     "data": {
      "text/latex": [
       "$\\displaystyle \\text{In the case } δ = 0 ,$"
      ],
      "text/plain": [
       "<IPython.core.display.Math object>"
      ]
     },
     "metadata": {},
     "output_type": "display_data"
    },
    {
     "data": {
      "text/latex": [
       "$\\displaystyle \\text{acting by the matrix} \\left(\\begin{array}{rrr}\n",
       "1 & 0 & 0 \\\\\n",
       "0 & 1 & 0 \\\\\n",
       "c_{1} & 0 & 1\n",
       "\\end{array}\\right) \\text{, we obtain the subalgebra \\;} \\left<E_{1}\\right>.$"
      ],
      "text/plain": [
       "<IPython.core.display.Math object>"
      ]
     },
     "metadata": {},
     "output_type": "display_data"
    },
    {
     "data": {
      "text/latex": [
       "$\\displaystyle \\text{For arbitrary subalgebra parameters,}$"
      ],
      "text/plain": [
       "<IPython.core.display.Math object>"
      ]
     },
     "metadata": {},
     "output_type": "display_data"
    },
    {
     "data": {
      "text/latex": [
       "$\\displaystyle \\text{acting by the matrix} \\left(\\begin{array}{rrr}\n",
       "1 & 0 & 0 \\\\\n",
       "0 & 1 & 0 \\\\\n",
       "0 & 0 & 1\n",
       "\\end{array}\\right) \\text{, we obtain the subalgebra \\;} \\left<P_{1} δ + E_{1}\\right>.$"
      ],
      "text/plain": [
       "<IPython.core.display.Math object>"
      ]
     },
     "metadata": {},
     "output_type": "display_data"
    },
    {
     "data": {
      "text/latex": [
       "$\\displaystyle \\text{In the case } δ = 0 ,$"
      ],
      "text/plain": [
       "<IPython.core.display.Math object>"
      ]
     },
     "metadata": {},
     "output_type": "display_data"
    },
    {
     "data": {
      "text/latex": [
       "$\\displaystyle \\text{acting by the matrix} \\left(\\begin{array}{rrr}\n",
       "0 & 0 & -1 \\\\\n",
       "0 & 1 & 0 \\\\\n",
       "1 & 0 & c_{2}\n",
       "\\end{array}\\right) \\text{, we obtain the subalgebra \\;} \\left<E_{1} c_{2} + P_{2}\\right>.$"
      ],
      "text/plain": [
       "<IPython.core.display.Math object>"
      ]
     },
     "metadata": {},
     "output_type": "display_data"
    },
    {
     "name": "stdout",
     "output_type": "stream",
     "text": [
      "\n",
      "\n",
      "\n",
      "\n"
     ]
    },
    {
     "data": {
      "text/latex": [
       "$\\displaystyle \\text{Consider the case }\\mathfrak s^*_{1.3}= \\left<D\\right>.$"
      ],
      "text/plain": [
       "<IPython.core.display.Math object>"
      ]
     },
     "metadata": {},
     "output_type": "display_data"
    },
    {
     "data": {
      "text/latex": [
       "$\\displaystyle \\text{For arbitrary subalgebra parameters,}$"
      ],
      "text/plain": [
       "<IPython.core.display.Math object>"
      ]
     },
     "metadata": {},
     "output_type": "display_data"
    },
    {
     "data": {
      "text/latex": [
       "$\\displaystyle \\text{acting by the matrix} \\left(\\begin{array}{rrr}\n",
       "1 & 0 & 0 \\\\\n",
       "0 & 1 & 0 \\\\\n",
       "0 & 0 & 1\n",
       "\\end{array}\\right) \\text{, we obtain the subalgebra \\;} \\left<D\\right>.$"
      ],
      "text/plain": [
       "<IPython.core.display.Math object>"
      ]
     },
     "metadata": {},
     "output_type": "display_data"
    },
    {
     "data": {
      "text/latex": [
       "$\\displaystyle \\text{For arbitrary subalgebra parameters,}$"
      ],
      "text/plain": [
       "<IPython.core.display.Math object>"
      ]
     },
     "metadata": {},
     "output_type": "display_data"
    },
    {
     "data": {
      "text/latex": [
       "$\\displaystyle \\text{acting by the matrix} \\left(\\begin{array}{rrr}\n",
       "-1 & 0 & 0 \\\\\n",
       "0 & 0 & 1 \\\\\n",
       "c_{1} & 1 & 0\n",
       "\\end{array}\\right) \\text{, we obtain the subalgebra \\;} \\left<-\\frac{1}{2} \\, D + \\frac{1}{2} \\, E_{2}\\right>.$"
      ],
      "text/plain": [
       "<IPython.core.display.Math object>"
      ]
     },
     "metadata": {},
     "output_type": "display_data"
    },
    {
     "data": {
      "text/latex": [
       "$\\displaystyle \\text{For arbitrary subalgebra parameters,}$"
      ],
      "text/plain": [
       "<IPython.core.display.Math object>"
      ]
     },
     "metadata": {},
     "output_type": "display_data"
    },
    {
     "data": {
      "text/latex": [
       "$\\displaystyle \\text{acting by the matrix} \\left(\\begin{array}{rrr}\n",
       "0 & 0 & -1 \\\\\n",
       "0 & 1 & 0 \\\\\n",
       "1 & c_{1} & 0\n",
       "\\end{array}\\right) \\text{, we obtain the subalgebra \\;} \\left<-\\frac{1}{2} \\, D - \\frac{1}{2} \\, E_{2}\\right>.$"
      ],
      "text/plain": [
       "<IPython.core.display.Math object>"
      ]
     },
     "metadata": {},
     "output_type": "display_data"
    },
    {
     "name": "stdout",
     "output_type": "stream",
     "text": [
      "\n",
      "\n",
      "\n",
      "\n"
     ]
    },
    {
     "data": {
      "text/latex": [
       "$\\displaystyle \\text{Consider the case }\\mathfrak s^*_{1.4}= \\left<D κ + E_{2}\\right>.$"
      ],
      "text/plain": [
       "<IPython.core.display.Math object>"
      ]
     },
     "metadata": {},
     "output_type": "display_data"
    },
    {
     "data": {
      "text/latex": [
       "$\\displaystyle \\text{For arbitrary subalgebra parameters,}$"
      ],
      "text/plain": [
       "<IPython.core.display.Math object>"
      ]
     },
     "metadata": {},
     "output_type": "display_data"
    },
    {
     "data": {
      "text/latex": [
       "$\\displaystyle \\text{acting by the matrix} \\left(\\begin{array}{rrr}\n",
       "1 & 0 & 0 \\\\\n",
       "0 & 1 & 0 \\\\\n",
       "0 & 0 & 1\n",
       "\\end{array}\\right) \\text{, we obtain the subalgebra \\;} \\left<D κ + E_{2}\\right>.$"
      ],
      "text/plain": [
       "<IPython.core.display.Math object>"
      ]
     },
     "metadata": {},
     "output_type": "display_data"
    },
    {
     "data": {
      "text/latex": [
       "$\\displaystyle \\text{In the case } κ = 1 ,$"
      ],
      "text/plain": [
       "<IPython.core.display.Math object>"
      ]
     },
     "metadata": {},
     "output_type": "display_data"
    },
    {
     "data": {
      "text/latex": [
       "$\\displaystyle \\text{acting by the matrix} \\left(\\begin{array}{rrr}\n",
       "1 & 0 & 0 \\\\\n",
       "0 & 1 & 0 \\\\\n",
       "0 & c_{2} & 1\n",
       "\\end{array}\\right) \\text{, we obtain the subalgebra \\;} \\left<D + E_{2}\\right>.$"
      ],
      "text/plain": [
       "<IPython.core.display.Math object>"
      ]
     },
     "metadata": {},
     "output_type": "display_data"
    },
    {
     "data": {
      "text/latex": [
       "$\\displaystyle \\text{For arbitrary subalgebra parameters,}$"
      ],
      "text/plain": [
       "<IPython.core.display.Math object>"
      ]
     },
     "metadata": {},
     "output_type": "display_data"
    },
    {
     "data": {
      "text/latex": [
       "$\\displaystyle \\text{acting by the matrix} \\left(\\begin{array}{rrr}\n",
       "-1 & 0 & 0 \\\\\n",
       "0 & 0 & 1 \\\\\n",
       "0 & 1 & 0\n",
       "\\end{array}\\right) \\text{, we obtain the subalgebra \\;} \\left<\\frac{1}{2} \\, E_{2} {\\left(κ + 1\\right)} - \\frac{1}{2} \\, D {\\left(κ - 3\\right)}\\right>.$"
      ],
      "text/plain": [
       "<IPython.core.display.Math object>"
      ]
     },
     "metadata": {},
     "output_type": "display_data"
    },
    {
     "data": {
      "text/latex": [
       "$\\displaystyle \\text{In the case } κ = 1 ,$"
      ],
      "text/plain": [
       "<IPython.core.display.Math object>"
      ]
     },
     "metadata": {},
     "output_type": "display_data"
    },
    {
     "data": {
      "text/latex": [
       "$\\displaystyle \\text{acting by the matrix} \\left(\\begin{array}{rrr}\n",
       "-1 & 0 & 0 \\\\\n",
       "0 & 0 & 1 \\\\\n",
       "0 & 1 & c_{2}\n",
       "\\end{array}\\right) \\text{, we obtain the subalgebra \\;} \\left<D + E_{2}\\right>.$"
      ],
      "text/plain": [
       "<IPython.core.display.Math object>"
      ]
     },
     "metadata": {},
     "output_type": "display_data"
    },
    {
     "data": {
      "text/latex": [
       "$\\displaystyle \\text{For arbitrary subalgebra parameters,}$"
      ],
      "text/plain": [
       "<IPython.core.display.Math object>"
      ]
     },
     "metadata": {},
     "output_type": "display_data"
    },
    {
     "data": {
      "text/latex": [
       "$\\displaystyle \\text{acting by the matrix} \\left(\\begin{array}{rrr}\n",
       "0 & 0 & -1 \\\\\n",
       "0 & 1 & 0 \\\\\n",
       "1 & 0 & 0\n",
       "\\end{array}\\right) \\text{, we obtain the subalgebra \\;} \\left<-\\frac{1}{2} \\, D {\\left(κ + 3\\right)} - \\frac{1}{2} \\, E_{2} {\\left(κ - 1\\right)}\\right>.$"
      ],
      "text/plain": [
       "<IPython.core.display.Math object>"
      ]
     },
     "metadata": {},
     "output_type": "display_data"
    },
    {
     "name": "stdout",
     "output_type": "stream",
     "text": [
      "\n",
      "\n",
      "\n",
      "\n"
     ]
    },
    {
     "data": {
      "text/latex": [
       "$\\displaystyle \\text{Consider the case }\\mathfrak s^*_{1.5}= \\left<D + E_{2} + P_{2}\\right>.$"
      ],
      "text/plain": [
       "<IPython.core.display.Math object>"
      ]
     },
     "metadata": {},
     "output_type": "display_data"
    },
    {
     "data": {
      "text/latex": [
       "$\\displaystyle \\text{For arbitrary subalgebra parameters,}$"
      ],
      "text/plain": [
       "<IPython.core.display.Math object>"
      ]
     },
     "metadata": {},
     "output_type": "display_data"
    },
    {
     "data": {
      "text/latex": [
       "$\\displaystyle \\text{acting by the matrix} \\left(\\begin{array}{rrr}\n",
       "1 & 0 & 0 \\\\\n",
       "0 & 1 & 0 \\\\\n",
       "0 & 0 & 1\n",
       "\\end{array}\\right) \\text{, we obtain the subalgebra \\;} \\left<D + E_{2} + P_{2}\\right>.$"
      ],
      "text/plain": [
       "<IPython.core.display.Math object>"
      ]
     },
     "metadata": {},
     "output_type": "display_data"
    },
    {
     "data": {
      "text/latex": [
       "$\\displaystyle \\text{For arbitrary subalgebra parameters,}$"
      ],
      "text/plain": [
       "<IPython.core.display.Math object>"
      ]
     },
     "metadata": {},
     "output_type": "display_data"
    },
    {
     "data": {
      "text/latex": [
       "$\\displaystyle \\text{acting by the matrix} \\left(\\begin{array}{rrr}\n",
       "0 & 0 & -1 \\\\\n",
       "0 & 1 & 0 \\\\\n",
       "1 & 0 & 0\n",
       "\\end{array}\\right) \\text{, we obtain the subalgebra \\;} \\left<-2 \\, D - E_{1}\\right>.$"
      ],
      "text/plain": [
       "<IPython.core.display.Math object>"
      ]
     },
     "metadata": {},
     "output_type": "display_data"
    },
    {
     "name": "stdout",
     "output_type": "stream",
     "text": [
      "\n",
      "\n",
      "\n",
      "\n"
     ]
    },
    {
     "data": {
      "text/latex": [
       "$\\displaystyle \\text{Consider the case }\\mathfrak s^*_{1.6}= \\left<D ε + E_{1}\\right>.$"
      ],
      "text/plain": [
       "<IPython.core.display.Math object>"
      ]
     },
     "metadata": {},
     "output_type": "display_data"
    },
    {
     "data": {
      "text/latex": [
       "$\\displaystyle \\text{For arbitrary subalgebra parameters,}$"
      ],
      "text/plain": [
       "<IPython.core.display.Math object>"
      ]
     },
     "metadata": {},
     "output_type": "display_data"
    },
    {
     "data": {
      "text/latex": [
       "$\\displaystyle \\text{acting by the matrix} \\left(\\begin{array}{rrr}\n",
       "1 & 0 & 0 \\\\\n",
       "0 & 1 & 0 \\\\\n",
       "0 & 0 & 1\n",
       "\\end{array}\\right) \\text{, we obtain the subalgebra \\;} \\left<D ε + E_{1}\\right>.$"
      ],
      "text/plain": [
       "<IPython.core.display.Math object>"
      ]
     },
     "metadata": {},
     "output_type": "display_data"
    },
    {
     "data": {
      "text/latex": [
       "$\\displaystyle \\text{For arbitrary subalgebra parameters,}$"
      ],
      "text/plain": [
       "<IPython.core.display.Math object>"
      ]
     },
     "metadata": {},
     "output_type": "display_data"
    },
    {
     "data": {
      "text/latex": [
       "$\\displaystyle \\text{acting by the matrix} \\left(\\begin{array}{rrr}\n",
       "0 & 0 & -1 \\\\\n",
       "0 & 1 & 0 \\\\\n",
       "1 & 0 & 0\n",
       "\\end{array}\\right) \\text{, we obtain the subalgebra \\;} \\left<-\\frac{1}{2} \\, D ε - \\frac{1}{2} \\, E_{2} ε + P_{2}\\right>.$"
      ],
      "text/plain": [
       "<IPython.core.display.Math object>"
      ]
     },
     "metadata": {},
     "output_type": "display_data"
    },
    {
     "name": "stdout",
     "output_type": "stream",
     "text": [
      "\n",
      "\n",
      "\n",
      "\n"
     ]
    },
    {
     "data": {
      "text/latex": [
       "$\\displaystyle \\text{Consider the case }\\mathfrak s^*_{1.7}= \\left<D γ + E_{1} + E_{3}\\right>.$"
      ],
      "text/plain": [
       "<IPython.core.display.Math object>"
      ]
     },
     "metadata": {},
     "output_type": "display_data"
    },
    {
     "data": {
      "text/latex": [
       "$\\displaystyle \\text{For arbitrary subalgebra parameters,}$"
      ],
      "text/plain": [
       "<IPython.core.display.Math object>"
      ]
     },
     "metadata": {},
     "output_type": "display_data"
    },
    {
     "data": {
      "text/latex": [
       "$\\displaystyle \\text{acting by the matrix} \\left(\\begin{array}{rrr}\n",
       "1 & 0 & 0 \\\\\n",
       "0 & 1 & 0 \\\\\n",
       "0 & 0 & 1\n",
       "\\end{array}\\right) \\text{, we obtain the subalgebra \\;} \\left<D γ + E_{1} + E_{3}\\right>.$"
      ],
      "text/plain": [
       "<IPython.core.display.Math object>"
      ]
     },
     "metadata": {},
     "output_type": "display_data"
    },
    {
     "name": "stdout",
     "output_type": "stream",
     "text": [
      "\n",
      "\n",
      "\n",
      "\n"
     ]
    }
   ],
   "source": [
    "for i in range(len(s_1_bases)):\n",
    "    basis = [substitute_matrices(v, a1_subs) for v in s_1_bases[i]]\n",
    "    display(Math(r'\\text{Consider the case }'+'\\\\mathfrak s^*_{1.'+str(i+1)+'}'+ \n",
    "                 '= \\\\left<{}\\\\right>.'.format(',\\\\; '.join([latex(decompose(v)) for v in basis]))))\n",
    "    solutions = restrict_M_images(basis, restrict_to_a1, M, PARAMS+[c_1, c_2])\n",
    "    for m, s, image in solutions:\n",
    "        display_solution(m, s, image)\n",
    "    print('\\n\\n\\n')"
   ]
  },
  {
   "cell_type": "markdown",
   "id": "756258b7-eacd-46ab-b1ee-e872b235ee2e",
   "metadata": {},
   "source": [
    "$\\boldsymbol{2\\rm D.}$\n",
    "For a two-dimensional subalgebra\n",
    "$\\mathfrak h\\in\\{\\hat{\\mathfrak s}_{2.1},\\hat{\\mathfrak s}_{2.2}^{\\delta},\\hat{\\mathfrak s_{2.6}},\n",
    "\\hat{\\mathfrak s}_{2.9},\\hat{\\mathfrak s}_{2.10},\\hat{\\mathfrak s_{2.13}}\\}$\n",
    "the set $M(\\mathfrak h)$ contains only one element that is a subalgebra of $\\mathfrak a_1$.\n",
    "This element is the subalgebra $\\mathfrak h$ itself.\n",
    "This means that none of the subalgebras\n",
    "$\\hat{\\mathfrak s}_{2.1}$, $\\hat{\\mathfrak s}_{2.2}^{\\delta}$, $\\hat{\\mathfrak s}_{2.6}$,\n",
    "$\\hat{\\mathfrak s}_{2.9}$, $\\hat{\\mathfrak s}_{2.10}$, $\\hat{\\mathfrak s}_{2.13}$\n",
    "is  equivalent to another one from the entire list.\n",
    "\n",
    "For a fixed value of $\\kappa$ the only elements of $M(\\hat{\\mathfrak s}_{2.4}^\\kappa)$\n",
    "that are subalgebras of $\\mathfrak a_1$\n",
    "are $\\hat{\\mathfrak s}_{2.4}^\\kappa$ itself and $\\langle E_2+\\tilde\\kappa D,E_3\\rangle$,\n",
    "where $\\tilde\\kappa=-(\\kappa-3)/(\\kappa+1)$.\n",
    "The latter subalgebra is equivalent to the subalgebra $\\hat{\\mathfrak s}_{2.11}^{-\\tilde\\kappa}$\n",
    "under the action of the matrix $S_1$.\n",
    "\n",
    "Acting on the subalgebra $\\hat{\\mathfrak s}_{2.3}$ \n",
    "by the matrix $S_1M_2(0,0)$ we obtain the subalgebra $\\hat{\\mathfrak s}_{2.11}^1$.\n",
    "\n",
    "\n",
    "Any subalgebra $\\hat{\\mathfrak s}_{2.5}^{\\kappa'}$ with $\\kappa'\\ne1$ is\n",
    "${\\rm SL}_3(\\mathbb R)$-equivalent to $\\hat{\\mathfrak s}_{2.11}^{\\tilde\\kappa'}$ with $\\tilde\\kappa':=(\\kappa'+3)/(\\kappa'-1)$\n",
    "under the conjugation by the matrix $M_3(0,0)$.\n",
    "The only element of the set $M(\\hat{\\mathfrak s}_{2.5}^{1})\\setminus\\{\\hat{\\mathfrak s}_{2.5}^{1}\\}$\n",
    "is the subalgebra $\\hat{\\mathfrak s}_{2.8}=\\langle E_1,D\\rangle$.\n",
    "\n",
    "\n",
    "\n",
    "Analogously, we consider the subalgebra $\\hat{\\mathfrak s}_{2.7}^1$:\n",
    "the only element of the set $M(\\hat{\\mathfrak s}_{2.7}^1)\\setminus\\{\\hat{\\mathfrak s}_{2.7}^1\\}$\n",
    "that is a subalgebra of $\\mathfrak a_1$\n",
    "is the subalgebra $\\langle E_2+D-2P_2,E_1\\rangle$.\n",
    "Acting on this subagebra by the matrix ${\\rm diag}(-2,-1/2,1)$\n",
    "we obtain the subalgebra $\\hat{\\mathfrak s}_{2.12}=\\langle E_2+D+P_2,E_1\\rangle$.\n",
    "Similarly, the subalgebra $\\hat{\\mathfrak s}_{2.7}^{-1}$ is equivalent to the subalgebra $\\langle E_2+D+2P_2,E_1\\rangle$\n",
    "under the action by $M_3(0,0)$,\n",
    "and the latter is conjugate with the subalgebra $\\hat{\\mathfrak s}_{2.12}$\n",
    "by the matrix ${\\rm diag}(2,1/2,1)$.\n",
    "\n",
    "\n",
    "\n",
    "\n",
    "The equivalence between the elements of the set $M(\\mathfrak s_{2.11}^\\gamma)\\setminus\\{\\mathfrak s_{2.11}^\\gamma\\}$\n",
    "and the subalgebras from the list $\\hat{\\mathfrak s}_{i,j}^*$ are exhaustively described in the previous paragraphs:\n",
    "$\\mathfrak s_{2.4}^\\kappa\\sim\\mathfrak s_{2.11}^{\\tilde\\kappa}$,\n",
    "$\\mathfrak s_{2.5}^{\\kappa'}\\sim\\mathfrak s_{2.11}^{\\tilde\\kappa'}$,\n",
    "$\\mathfrak s_{2.3}\\sim\\mathfrak s_{2.11}^1$,\n",
    "$\\mathfrak s_{2.7}^{-1}\\sim\\mathfrak s_{2.11}^{-1}$,\n",
    "where by $\\sim$ we mean ${\\rm SL}_3(\\mathbb R)$-equivalence.\n",
    "There is no equivalence between $\\mathfrak s_{2.11}^\\gamma$ and $\\mathfrak s_{2.11}^{\\gamma'}$,\n",
    "where $\\gamma\\ne\\gamma'$.\n",
    "\n",
    "This case results in the subalgebras \n",
    "$\\hat{\\mathfrak s}_{2.1}$,\n",
    "$\\hat{\\mathfrak s}_{2.2}^{\\delta}$,\n",
    "$\\hat{\\mathfrak s}_{2.6}$,\n",
    "$\\hat{\\mathfrak s}_{2.7}^1$,\n",
    "$\\hat{\\mathfrak s}_{2.8}$,\n",
    "$\\hat{\\mathfrak s}_{2.9}$,\n",
    "$\\hat{\\mathfrak s}_{2.10}$,\n",
    "$\\hat{\\mathfrak s}_{2.11}^\\gamma$,\n",
    "$\\hat{\\mathfrak s}_{2.13}$.\n"
   ]
  },
  {
   "cell_type": "code",
   "execution_count": 17,
   "id": "01402987-97b3-4ce9-a0b7-bdf931f4c417",
   "metadata": {},
   "outputs": [
    {
     "data": {
      "text/latex": [
       "$\\displaystyle \\text{Consider the case }\\mathfrak s^*_{2.1}= \\left<P_{1},\\; P_{2}\\right>.$"
      ],
      "text/plain": [
       "<IPython.core.display.Math object>"
      ]
     },
     "metadata": {},
     "output_type": "display_data"
    },
    {
     "data": {
      "text/latex": [
       "$\\displaystyle \\text{For arbitrary subalgebra parameters,}$"
      ],
      "text/plain": [
       "<IPython.core.display.Math object>"
      ]
     },
     "metadata": {},
     "output_type": "display_data"
    },
    {
     "data": {
      "text/latex": [
       "$\\displaystyle \\text{acting by the matrix} \\left(\\begin{array}{rrr}\n",
       "1 & 0 & 0 \\\\\n",
       "0 & 1 & 0 \\\\\n",
       "0 & 0 & 1\n",
       "\\end{array}\\right) \\text{, we obtain the subalgebra \\;} \\left<P_{1},\\; P_{2}\\right>.$"
      ],
      "text/plain": [
       "<IPython.core.display.Math object>"
      ]
     },
     "metadata": {},
     "output_type": "display_data"
    },
    {
     "name": "stdout",
     "output_type": "stream",
     "text": [
      "\n",
      "\n",
      "\n",
      "\n"
     ]
    },
    {
     "data": {
      "text/latex": [
       "$\\displaystyle \\text{Consider the case }\\mathfrak s^*_{2.2}= \\left<P_{1} δ + E_{1},\\; P_{2}\\right>.$"
      ],
      "text/plain": [
       "<IPython.core.display.Math object>"
      ]
     },
     "metadata": {},
     "output_type": "display_data"
    },
    {
     "data": {
      "text/latex": [
       "$\\displaystyle \\text{In the case } δ = 0 ,$"
      ],
      "text/plain": [
       "<IPython.core.display.Math object>"
      ]
     },
     "metadata": {},
     "output_type": "display_data"
    },
    {
     "data": {
      "text/latex": [
       "$\\displaystyle \\text{acting by the matrix} \\left(\\begin{array}{rrr}\n",
       "1 & 0 & 0 \\\\\n",
       "0 & 1 & 0 \\\\\n",
       "c_{1} & 0 & 1\n",
       "\\end{array}\\right) \\text{, we obtain the subalgebra \\;} \\left<E_{1},\\; -E_{1} c_{1} + P_{2}\\right>.$"
      ],
      "text/plain": [
       "<IPython.core.display.Math object>"
      ]
     },
     "metadata": {},
     "output_type": "display_data"
    },
    {
     "data": {
      "text/latex": [
       "$\\displaystyle \\text{For arbitrary subalgebra parameters,}$"
      ],
      "text/plain": [
       "<IPython.core.display.Math object>"
      ]
     },
     "metadata": {},
     "output_type": "display_data"
    },
    {
     "data": {
      "text/latex": [
       "$\\displaystyle \\text{acting by the matrix} \\left(\\begin{array}{rrr}\n",
       "1 & 0 & 0 \\\\\n",
       "0 & 1 & 0 \\\\\n",
       "0 & 0 & 1\n",
       "\\end{array}\\right) \\text{, we obtain the subalgebra \\;} \\left<P_{1} δ + E_{1},\\; P_{2}\\right>.$"
      ],
      "text/plain": [
       "<IPython.core.display.Math object>"
      ]
     },
     "metadata": {},
     "output_type": "display_data"
    },
    {
     "data": {
      "text/latex": [
       "$\\displaystyle \\text{In the case } δ = 0 ,$"
      ],
      "text/plain": [
       "<IPython.core.display.Math object>"
      ]
     },
     "metadata": {},
     "output_type": "display_data"
    },
    {
     "data": {
      "text/latex": [
       "$\\displaystyle \\text{acting by the matrix} \\left(\\begin{array}{rrr}\n",
       "0 & 0 & -1 \\\\\n",
       "0 & 1 & 0 \\\\\n",
       "1 & 0 & c_{2}\n",
       "\\end{array}\\right) \\text{, we obtain the subalgebra \\;} \\left<E_{1} c_{2} + P_{2},\\; -E_{1}\\right>.$"
      ],
      "text/plain": [
       "<IPython.core.display.Math object>"
      ]
     },
     "metadata": {},
     "output_type": "display_data"
    },
    {
     "name": "stdout",
     "output_type": "stream",
     "text": [
      "\n",
      "\n",
      "\n",
      "\n"
     ]
    },
    {
     "data": {
      "text/latex": [
       "$\\displaystyle \\text{Consider the case }\\mathfrak s^*_{2.3}= \\left<D,\\; P_{1}\\right>.$"
      ],
      "text/plain": [
       "<IPython.core.display.Math object>"
      ]
     },
     "metadata": {},
     "output_type": "display_data"
    },
    {
     "data": {
      "text/latex": [
       "$\\displaystyle \\text{For arbitrary subalgebra parameters,}$"
      ],
      "text/plain": [
       "<IPython.core.display.Math object>"
      ]
     },
     "metadata": {},
     "output_type": "display_data"
    },
    {
     "data": {
      "text/latex": [
       "$\\displaystyle \\text{acting by the matrix} \\left(\\begin{array}{rrr}\n",
       "1 & 0 & 0 \\\\\n",
       "0 & 1 & 0 \\\\\n",
       "0 & 0 & 1\n",
       "\\end{array}\\right) \\text{, we obtain the subalgebra \\;} \\left<D,\\; P_{1}\\right>.$"
      ],
      "text/plain": [
       "<IPython.core.display.Math object>"
      ]
     },
     "metadata": {},
     "output_type": "display_data"
    },
    {
     "data": {
      "text/latex": [
       "$\\displaystyle \\text{For arbitrary subalgebra parameters,}$"
      ],
      "text/plain": [
       "<IPython.core.display.Math object>"
      ]
     },
     "metadata": {},
     "output_type": "display_data"
    },
    {
     "data": {
      "text/latex": [
       "$\\displaystyle \\text{acting by the matrix} \\left(\\begin{array}{rrr}\n",
       "-1 & 0 & 0 \\\\\n",
       "0 & 0 & 1 \\\\\n",
       "0 & 1 & 0\n",
       "\\end{array}\\right) \\text{, we obtain the subalgebra \\;} \\left<-\\frac{1}{2} \\, D + \\frac{1}{2} \\, E_{2},\\; E_{3}\\right>.$"
      ],
      "text/plain": [
       "<IPython.core.display.Math object>"
      ]
     },
     "metadata": {},
     "output_type": "display_data"
    },
    {
     "name": "stdout",
     "output_type": "stream",
     "text": [
      "\n",
      "\n",
      "\n",
      "\n"
     ]
    },
    {
     "data": {
      "text/latex": [
       "$\\displaystyle \\text{Consider the case }\\mathfrak s^*_{2.4}= \\left<D κ + E_{2},\\; P_{1}\\right>.$"
      ],
      "text/plain": [
       "<IPython.core.display.Math object>"
      ]
     },
     "metadata": {},
     "output_type": "display_data"
    },
    {
     "data": {
      "text/latex": [
       "$\\displaystyle \\text{For arbitrary subalgebra parameters,}$"
      ],
      "text/plain": [
       "<IPython.core.display.Math object>"
      ]
     },
     "metadata": {},
     "output_type": "display_data"
    },
    {
     "data": {
      "text/latex": [
       "$\\displaystyle \\text{acting by the matrix} \\left(\\begin{array}{rrr}\n",
       "1 & 0 & 0 \\\\\n",
       "0 & 1 & 0 \\\\\n",
       "0 & 0 & 1\n",
       "\\end{array}\\right) \\text{, we obtain the subalgebra \\;} \\left<D κ + E_{2},\\; P_{1}\\right>.$"
      ],
      "text/plain": [
       "<IPython.core.display.Math object>"
      ]
     },
     "metadata": {},
     "output_type": "display_data"
    },
    {
     "data": {
      "text/latex": [
       "$\\displaystyle \\text{In the case } κ = 1 ,$"
      ],
      "text/plain": [
       "<IPython.core.display.Math object>"
      ]
     },
     "metadata": {},
     "output_type": "display_data"
    },
    {
     "data": {
      "text/latex": [
       "$\\displaystyle \\text{acting by the matrix} \\left(\\begin{array}{rrr}\n",
       "1 & 0 & 0 \\\\\n",
       "0 & 1 & 0 \\\\\n",
       "0 & c_{2} & 1\n",
       "\\end{array}\\right) \\text{, we obtain the subalgebra \\;} \\left<D + E_{2},\\; E_{3} c_{2} + P_{1}\\right>.$"
      ],
      "text/plain": [
       "<IPython.core.display.Math object>"
      ]
     },
     "metadata": {},
     "output_type": "display_data"
    },
    {
     "data": {
      "text/latex": [
       "$\\displaystyle \\text{For arbitrary subalgebra parameters,}$"
      ],
      "text/plain": [
       "<IPython.core.display.Math object>"
      ]
     },
     "metadata": {},
     "output_type": "display_data"
    },
    {
     "data": {
      "text/latex": [
       "$\\displaystyle \\text{acting by the matrix} \\left(\\begin{array}{rrr}\n",
       "-1 & 0 & 0 \\\\\n",
       "0 & 0 & 1 \\\\\n",
       "0 & 1 & 0\n",
       "\\end{array}\\right) \\text{, we obtain the subalgebra \\;} \\left<\\frac{1}{2} \\, E_{2} {\\left(κ + 1\\right)} - \\frac{1}{2} \\, D {\\left(κ - 3\\right)},\\; E_{3}\\right>.$"
      ],
      "text/plain": [
       "<IPython.core.display.Math object>"
      ]
     },
     "metadata": {},
     "output_type": "display_data"
    },
    {
     "data": {
      "text/latex": [
       "$\\displaystyle \\text{In the case } κ = 1 ,$"
      ],
      "text/plain": [
       "<IPython.core.display.Math object>"
      ]
     },
     "metadata": {},
     "output_type": "display_data"
    },
    {
     "data": {
      "text/latex": [
       "$\\displaystyle \\text{acting by the matrix} \\left(\\begin{array}{rrr}\n",
       "-1 & 0 & 0 \\\\\n",
       "0 & 0 & 1 \\\\\n",
       "0 & 1 & c_{2}\n",
       "\\end{array}\\right) \\text{, we obtain the subalgebra \\;} \\left<D + E_{2},\\; E_{3}\\right>.$"
      ],
      "text/plain": [
       "<IPython.core.display.Math object>"
      ]
     },
     "metadata": {},
     "output_type": "display_data"
    },
    {
     "name": "stdout",
     "output_type": "stream",
     "text": [
      "\n",
      "\n",
      "\n",
      "\n"
     ]
    },
    {
     "data": {
      "text/latex": [
       "$\\displaystyle \\text{Consider the case }\\mathfrak s^*_{2.5}= \\left<D κ_{1} + E_{2},\\; P_{2}\\right>.$"
      ],
      "text/plain": [
       "<IPython.core.display.Math object>"
      ]
     },
     "metadata": {},
     "output_type": "display_data"
    },
    {
     "data": {
      "text/latex": [
       "$\\displaystyle \\text{For arbitrary subalgebra parameters,}$"
      ],
      "text/plain": [
       "<IPython.core.display.Math object>"
      ]
     },
     "metadata": {},
     "output_type": "display_data"
    },
    {
     "data": {
      "text/latex": [
       "$\\displaystyle \\text{acting by the matrix} \\left(\\begin{array}{rrr}\n",
       "1 & 0 & 0 \\\\\n",
       "0 & 1 & 0 \\\\\n",
       "0 & 0 & 1\n",
       "\\end{array}\\right) \\text{, we obtain the subalgebra \\;} \\left<D κ_{1} + E_{2},\\; P_{2}\\right>.$"
      ],
      "text/plain": [
       "<IPython.core.display.Math object>"
      ]
     },
     "metadata": {},
     "output_type": "display_data"
    },
    {
     "data": {
      "text/latex": [
       "$\\displaystyle \\text{For arbitrary subalgebra parameters,}$"
      ],
      "text/plain": [
       "<IPython.core.display.Math object>"
      ]
     },
     "metadata": {},
     "output_type": "display_data"
    },
    {
     "data": {
      "text/latex": [
       "$\\displaystyle \\text{acting by the matrix} \\left(\\begin{array}{rrr}\n",
       "0 & 0 & -1 \\\\\n",
       "0 & 1 & 0 \\\\\n",
       "1 & 0 & 0\n",
       "\\end{array}\\right) \\text{, we obtain the subalgebra \\;} \\left<-\\frac{1}{2} \\, D {\\left(κ_{1} + 3\\right)} - \\frac{1}{2} \\, E_{2} {\\left(κ_{1} - 1\\right)},\\; -E_{1}\\right>.$"
      ],
      "text/plain": [
       "<IPython.core.display.Math object>"
      ]
     },
     "metadata": {},
     "output_type": "display_data"
    },
    {
     "name": "stdout",
     "output_type": "stream",
     "text": [
      "\n",
      "\n",
      "\n",
      "\n"
     ]
    },
    {
     "data": {
      "text/latex": [
       "$\\displaystyle \\text{Consider the case }\\mathfrak s^*_{2.6}= \\left<D + E_{2} + P_{2},\\; P_{1}\\right>.$"
      ],
      "text/plain": [
       "<IPython.core.display.Math object>"
      ]
     },
     "metadata": {},
     "output_type": "display_data"
    },
    {
     "data": {
      "text/latex": [
       "$\\displaystyle \\text{For arbitrary subalgebra parameters,}$"
      ],
      "text/plain": [
       "<IPython.core.display.Math object>"
      ]
     },
     "metadata": {},
     "output_type": "display_data"
    },
    {
     "data": {
      "text/latex": [
       "$\\displaystyle \\text{acting by the matrix} \\left(\\begin{array}{rrr}\n",
       "1 & 0 & 0 \\\\\n",
       "0 & 1 & 0 \\\\\n",
       "0 & 0 & 1\n",
       "\\end{array}\\right) \\text{, we obtain the subalgebra \\;} \\left<D + E_{2} + P_{2},\\; P_{1}\\right>.$"
      ],
      "text/plain": [
       "<IPython.core.display.Math object>"
      ]
     },
     "metadata": {},
     "output_type": "display_data"
    },
    {
     "name": "stdout",
     "output_type": "stream",
     "text": [
      "\n",
      "\n",
      "\n",
      "\n"
     ]
    },
    {
     "data": {
      "text/latex": [
       "$\\displaystyle \\text{Consider the case }\\mathfrak s^*_{2.7}= \\left<D ε + E_{1},\\; P_{2}\\right>.$"
      ],
      "text/plain": [
       "<IPython.core.display.Math object>"
      ]
     },
     "metadata": {},
     "output_type": "display_data"
    },
    {
     "data": {
      "text/latex": [
       "$\\displaystyle \\text{For arbitrary subalgebra parameters,}$"
      ],
      "text/plain": [
       "<IPython.core.display.Math object>"
      ]
     },
     "metadata": {},
     "output_type": "display_data"
    },
    {
     "data": {
      "text/latex": [
       "$\\displaystyle \\text{acting by the matrix} \\left(\\begin{array}{rrr}\n",
       "1 & 0 & 0 \\\\\n",
       "0 & 1 & 0 \\\\\n",
       "0 & 0 & 1\n",
       "\\end{array}\\right) \\text{, we obtain the subalgebra \\;} \\left<D ε + E_{1},\\; P_{2}\\right>.$"
      ],
      "text/plain": [
       "<IPython.core.display.Math object>"
      ]
     },
     "metadata": {},
     "output_type": "display_data"
    },
    {
     "data": {
      "text/latex": [
       "$\\displaystyle \\text{For arbitrary subalgebra parameters,}$"
      ],
      "text/plain": [
       "<IPython.core.display.Math object>"
      ]
     },
     "metadata": {},
     "output_type": "display_data"
    },
    {
     "data": {
      "text/latex": [
       "$\\displaystyle \\text{acting by the matrix} \\left(\\begin{array}{rrr}\n",
       "0 & 0 & -1 \\\\\n",
       "0 & 1 & 0 \\\\\n",
       "1 & 0 & 0\n",
       "\\end{array}\\right) \\text{, we obtain the subalgebra \\;} \\left<-\\frac{1}{2} \\, D ε - \\frac{1}{2} \\, E_{2} ε + P_{2},\\; -E_{1}\\right>.$"
      ],
      "text/plain": [
       "<IPython.core.display.Math object>"
      ]
     },
     "metadata": {},
     "output_type": "display_data"
    },
    {
     "name": "stdout",
     "output_type": "stream",
     "text": [
      "\n",
      "\n",
      "\n",
      "\n"
     ]
    },
    {
     "data": {
      "text/latex": [
       "$\\displaystyle \\text{Consider the case }\\mathfrak s^*_{2.8}= \\left<E_{1},\\; D\\right>.$"
      ],
      "text/plain": [
       "<IPython.core.display.Math object>"
      ]
     },
     "metadata": {},
     "output_type": "display_data"
    },
    {
     "data": {
      "text/latex": [
       "$\\displaystyle \\text{For arbitrary subalgebra parameters,}$"
      ],
      "text/plain": [
       "<IPython.core.display.Math object>"
      ]
     },
     "metadata": {},
     "output_type": "display_data"
    },
    {
     "data": {
      "text/latex": [
       "$\\displaystyle \\text{acting by the matrix} \\left(\\begin{array}{rrr}\n",
       "1 & 0 & 0 \\\\\n",
       "0 & 1 & 0 \\\\\n",
       "0 & 0 & 1\n",
       "\\end{array}\\right) \\text{, we obtain the subalgebra \\;} \\left<E_{1},\\; D\\right>.$"
      ],
      "text/plain": [
       "<IPython.core.display.Math object>"
      ]
     },
     "metadata": {},
     "output_type": "display_data"
    },
    {
     "data": {
      "text/latex": [
       "$\\displaystyle \\text{For arbitrary subalgebra parameters,}$"
      ],
      "text/plain": [
       "<IPython.core.display.Math object>"
      ]
     },
     "metadata": {},
     "output_type": "display_data"
    },
    {
     "data": {
      "text/latex": [
       "$\\displaystyle \\text{acting by the matrix} \\left(\\begin{array}{rrr}\n",
       "0 & 0 & -1 \\\\\n",
       "0 & 1 & 0 \\\\\n",
       "1 & 0 & 0\n",
       "\\end{array}\\right) \\text{, we obtain the subalgebra \\;} \\left<P_{2},\\; -\\frac{1}{2} \\, D - \\frac{1}{2} \\, E_{2}\\right>.$"
      ],
      "text/plain": [
       "<IPython.core.display.Math object>"
      ]
     },
     "metadata": {},
     "output_type": "display_data"
    },
    {
     "name": "stdout",
     "output_type": "stream",
     "text": [
      "\n",
      "\n",
      "\n",
      "\n"
     ]
    },
    {
     "data": {
      "text/latex": [
       "$\\displaystyle \\text{Consider the case }\\mathfrak s^*_{2.9}= \\left<E_{2},\\; D\\right>.$"
      ],
      "text/plain": [
       "<IPython.core.display.Math object>"
      ]
     },
     "metadata": {},
     "output_type": "display_data"
    },
    {
     "data": {
      "text/latex": [
       "$\\displaystyle \\text{For arbitrary subalgebra parameters,}$"
      ],
      "text/plain": [
       "<IPython.core.display.Math object>"
      ]
     },
     "metadata": {},
     "output_type": "display_data"
    },
    {
     "data": {
      "text/latex": [
       "$\\displaystyle \\text{acting by the matrix} \\left(\\begin{array}{rrr}\n",
       "1 & 0 & 0 \\\\\n",
       "0 & 1 & 0 \\\\\n",
       "0 & 0 & 1\n",
       "\\end{array}\\right) \\text{, we obtain the subalgebra \\;} \\left<E_{2},\\; D\\right>.$"
      ],
      "text/plain": [
       "<IPython.core.display.Math object>"
      ]
     },
     "metadata": {},
     "output_type": "display_data"
    },
    {
     "data": {
      "text/latex": [
       "$\\displaystyle \\text{For arbitrary subalgebra parameters,}$"
      ],
      "text/plain": [
       "<IPython.core.display.Math object>"
      ]
     },
     "metadata": {},
     "output_type": "display_data"
    },
    {
     "data": {
      "text/latex": [
       "$\\displaystyle \\text{acting by the matrix} \\left(\\begin{array}{rrr}\n",
       "-1 & 0 & 0 \\\\\n",
       "0 & 0 & 1 \\\\\n",
       "0 & 1 & 0\n",
       "\\end{array}\\right) \\text{, we obtain the subalgebra \\;} \\left<\\frac{3}{2} \\, D + \\frac{1}{2} \\, E_{2},\\; -\\frac{1}{2} \\, D + \\frac{1}{2} \\, E_{2}\\right>.$"
      ],
      "text/plain": [
       "<IPython.core.display.Math object>"
      ]
     },
     "metadata": {},
     "output_type": "display_data"
    },
    {
     "data": {
      "text/latex": [
       "$\\displaystyle \\text{For arbitrary subalgebra parameters,}$"
      ],
      "text/plain": [
       "<IPython.core.display.Math object>"
      ]
     },
     "metadata": {},
     "output_type": "display_data"
    },
    {
     "data": {
      "text/latex": [
       "$\\displaystyle \\text{acting by the matrix} \\left(\\begin{array}{rrr}\n",
       "0 & 0 & -1 \\\\\n",
       "0 & 1 & 0 \\\\\n",
       "1 & 0 & 0\n",
       "\\end{array}\\right) \\text{, we obtain the subalgebra \\;} \\left<-\\frac{3}{2} \\, D + \\frac{1}{2} \\, E_{2},\\; -\\frac{1}{2} \\, D - \\frac{1}{2} \\, E_{2}\\right>.$"
      ],
      "text/plain": [
       "<IPython.core.display.Math object>"
      ]
     },
     "metadata": {},
     "output_type": "display_data"
    },
    {
     "name": "stdout",
     "output_type": "stream",
     "text": [
      "\n",
      "\n",
      "\n",
      "\n"
     ]
    },
    {
     "data": {
      "text/latex": [
       "$\\displaystyle \\text{Consider the case }\\mathfrak s^*_{2.10}= \\left<E_{1} + E_{3},\\; D\\right>.$"
      ],
      "text/plain": [
       "<IPython.core.display.Math object>"
      ]
     },
     "metadata": {},
     "output_type": "display_data"
    },
    {
     "data": {
      "text/latex": [
       "$\\displaystyle \\text{For arbitrary subalgebra parameters,}$"
      ],
      "text/plain": [
       "<IPython.core.display.Math object>"
      ]
     },
     "metadata": {},
     "output_type": "display_data"
    },
    {
     "data": {
      "text/latex": [
       "$\\displaystyle \\text{acting by the matrix} \\left(\\begin{array}{rrr}\n",
       "1 & 0 & 0 \\\\\n",
       "0 & 1 & 0 \\\\\n",
       "0 & 0 & 1\n",
       "\\end{array}\\right) \\text{, we obtain the subalgebra \\;} \\left<E_{1} + E_{3},\\; D\\right>.$"
      ],
      "text/plain": [
       "<IPython.core.display.Math object>"
      ]
     },
     "metadata": {},
     "output_type": "display_data"
    },
    {
     "name": "stdout",
     "output_type": "stream",
     "text": [
      "\n",
      "\n",
      "\n",
      "\n"
     ]
    },
    {
     "data": {
      "text/latex": [
       "$\\displaystyle \\text{Consider the case }\\mathfrak s^*_{2.11}= \\left<D γ + E_{2},\\; E_{1}\\right>.$"
      ],
      "text/plain": [
       "<IPython.core.display.Math object>"
      ]
     },
     "metadata": {},
     "output_type": "display_data"
    },
    {
     "data": {
      "text/latex": [
       "$\\displaystyle \\text{For arbitrary subalgebra parameters,}$"
      ],
      "text/plain": [
       "<IPython.core.display.Math object>"
      ]
     },
     "metadata": {},
     "output_type": "display_data"
    },
    {
     "data": {
      "text/latex": [
       "$\\displaystyle \\text{acting by the matrix} \\left(\\begin{array}{rrr}\n",
       "1 & 0 & 0 \\\\\n",
       "0 & 1 & 0 \\\\\n",
       "0 & 0 & 1\n",
       "\\end{array}\\right) \\text{, we obtain the subalgebra \\;} \\left<D γ + E_{2},\\; E_{1}\\right>.$"
      ],
      "text/plain": [
       "<IPython.core.display.Math object>"
      ]
     },
     "metadata": {},
     "output_type": "display_data"
    },
    {
     "data": {
      "text/latex": [
       "$\\displaystyle \\text{In the case } γ = \\left(-1\\right) ,$"
      ],
      "text/plain": [
       "<IPython.core.display.Math object>"
      ]
     },
     "metadata": {},
     "output_type": "display_data"
    },
    {
     "data": {
      "text/latex": [
       "$\\displaystyle \\text{acting by the matrix} \\left(\\begin{array}{rrr}\n",
       "1 & 0 & 0 \\\\\n",
       "0 & 1 & 0 \\\\\n",
       "c_{1} & 0 & 1\n",
       "\\end{array}\\right) \\text{, we obtain the subalgebra \\;} \\left<-D + E_{2},\\; E_{1}\\right>.$"
      ],
      "text/plain": [
       "<IPython.core.display.Math object>"
      ]
     },
     "metadata": {},
     "output_type": "display_data"
    },
    {
     "data": {
      "text/latex": [
       "$\\displaystyle \\text{For arbitrary subalgebra parameters,}$"
      ],
      "text/plain": [
       "<IPython.core.display.Math object>"
      ]
     },
     "metadata": {},
     "output_type": "display_data"
    },
    {
     "data": {
      "text/latex": [
       "$\\displaystyle \\text{acting by the matrix} \\left(\\begin{array}{rrr}\n",
       "0 & 0 & -1 \\\\\n",
       "0 & 1 & 0 \\\\\n",
       "1 & 0 & 0\n",
       "\\end{array}\\right) \\text{, we obtain the subalgebra \\;} \\left<-\\frac{1}{2} \\, D {\\left(γ + 3\\right)} - \\frac{1}{2} \\, E_{2} {\\left(γ - 1\\right)},\\; P_{2}\\right>.$"
      ],
      "text/plain": [
       "<IPython.core.display.Math object>"
      ]
     },
     "metadata": {},
     "output_type": "display_data"
    },
    {
     "data": {
      "text/latex": [
       "$\\displaystyle \\text{In the case } γ = \\left(-1\\right) ,$"
      ],
      "text/plain": [
       "<IPython.core.display.Math object>"
      ]
     },
     "metadata": {},
     "output_type": "display_data"
    },
    {
     "data": {
      "text/latex": [
       "$\\displaystyle \\text{acting by the matrix} \\left(\\begin{array}{rrr}\n",
       "0 & 0 & -1 \\\\\n",
       "0 & 1 & 0 \\\\\n",
       "1 & 0 & c_{2}\n",
       "\\end{array}\\right) \\text{, we obtain the subalgebra \\;} \\left<-D + E_{2},\\; E_{1} c_{2} + P_{2}\\right>.$"
      ],
      "text/plain": [
       "<IPython.core.display.Math object>"
      ]
     },
     "metadata": {},
     "output_type": "display_data"
    },
    {
     "name": "stdout",
     "output_type": "stream",
     "text": [
      "\n",
      "\n",
      "\n",
      "\n"
     ]
    },
    {
     "data": {
      "text/latex": [
       "$\\displaystyle \\text{Consider the case }\\mathfrak s^*_{2.12}= \\left<D + E_{2} + P_{2},\\; E_{1}\\right>.$"
      ],
      "text/plain": [
       "<IPython.core.display.Math object>"
      ]
     },
     "metadata": {},
     "output_type": "display_data"
    },
    {
     "data": {
      "text/latex": [
       "$\\displaystyle \\text{For arbitrary subalgebra parameters,}$"
      ],
      "text/plain": [
       "<IPython.core.display.Math object>"
      ]
     },
     "metadata": {},
     "output_type": "display_data"
    },
    {
     "data": {
      "text/latex": [
       "$\\displaystyle \\text{acting by the matrix} \\left(\\begin{array}{rrr}\n",
       "1 & 0 & 0 \\\\\n",
       "0 & 1 & 0 \\\\\n",
       "0 & 0 & 1\n",
       "\\end{array}\\right) \\text{, we obtain the subalgebra \\;} \\left<D + E_{2} + P_{2},\\; E_{1}\\right>.$"
      ],
      "text/plain": [
       "<IPython.core.display.Math object>"
      ]
     },
     "metadata": {},
     "output_type": "display_data"
    },
    {
     "data": {
      "text/latex": [
       "$\\displaystyle \\text{For arbitrary subalgebra parameters,}$"
      ],
      "text/plain": [
       "<IPython.core.display.Math object>"
      ]
     },
     "metadata": {},
     "output_type": "display_data"
    },
    {
     "data": {
      "text/latex": [
       "$\\displaystyle \\text{acting by the matrix} \\left(\\begin{array}{rrr}\n",
       "0 & 0 & -1 \\\\\n",
       "0 & 1 & 0 \\\\\n",
       "1 & 0 & 0\n",
       "\\end{array}\\right) \\text{, we obtain the subalgebra \\;} \\left<-2 \\, D - E_{1},\\; P_{2}\\right>.$"
      ],
      "text/plain": [
       "<IPython.core.display.Math object>"
      ]
     },
     "metadata": {},
     "output_type": "display_data"
    },
    {
     "name": "stdout",
     "output_type": "stream",
     "text": [
      "\n",
      "\n",
      "\n",
      "\n"
     ]
    },
    {
     "data": {
      "text/latex": [
       "$\\displaystyle \\text{Consider the case }\\mathfrak s^*_{2.13}= \\left<-3 \\, D + E_{2},\\; E_{1} + P_{1}\\right>.$"
      ],
      "text/plain": [
       "<IPython.core.display.Math object>"
      ]
     },
     "metadata": {},
     "output_type": "display_data"
    },
    {
     "data": {
      "text/latex": [
       "$\\displaystyle \\text{For arbitrary subalgebra parameters,}$"
      ],
      "text/plain": [
       "<IPython.core.display.Math object>"
      ]
     },
     "metadata": {},
     "output_type": "display_data"
    },
    {
     "data": {
      "text/latex": [
       "$\\displaystyle \\text{acting by the matrix} \\left(\\begin{array}{rrr}\n",
       "1 & 0 & 0 \\\\\n",
       "0 & 1 & 0 \\\\\n",
       "0 & 0 & 1\n",
       "\\end{array}\\right) \\text{, we obtain the subalgebra \\;} \\left<-3 \\, D + E_{2},\\; E_{1} + P_{1}\\right>.$"
      ],
      "text/plain": [
       "<IPython.core.display.Math object>"
      ]
     },
     "metadata": {},
     "output_type": "display_data"
    },
    {
     "name": "stdout",
     "output_type": "stream",
     "text": [
      "\n",
      "\n",
      "\n",
      "\n"
     ]
    }
   ],
   "source": [
    "for i in range(len(s_2_bases)):\n",
    "    basis = [substitute_matrices(v, a1_subs) for v in s_2_bases[i]]\n",
    "    display(Math(r'\\text{Consider the case }'+'\\\\mathfrak s^*_{2.'+str(i+1)+'}'+ \n",
    "                 '= \\\\left<{}\\\\right>.'.format(',\\\\; '.join([latex(decompose(v)) for v in basis]))))\n",
    "    solutions = restrict_M_images(basis, restrict_to_a1, M, PARAMS+[c_1, c_2])\n",
    "    for m, s, image in solutions:\n",
    "        display_solution(m, s, image)\n",
    "    print('\\n\\n\\n')"
   ]
  },
  {
   "cell_type": "markdown",
   "id": "4e1eb690-9d1e-4178-82b4-1083916f41fb",
   "metadata": {},
   "source": [
    "$\\boldsymbol{3\\rm D.}$\n",
    "Similarly to the previous case, we start by considering the subalgebras\n",
    "whose image under the action of $M$ contains precisely one subalgebra of $\\mathfrak a_1$.\n",
    "These are $\\hat{\\mathfrak s}_{3.1}$,\n",
    "$\\hat{\\mathfrak s}_{3.2}$,\n",
    "$\\hat{\\mathfrak s}_{3.3}^\\kappa$,\n",
    "$\\hat{\\mathfrak s}_{3.4}^\\varepsilon$,\n",
    "$\\hat{\\mathfrak s}_{3.5}^\\gamma$,\n",
    "$\\hat{\\mathfrak s}_{3.8}^\\gamma$ for $\\gamma\\ne1$,\n",
    "and $\\hat{\\mathfrak s}_{3.9}$,\n",
    "so they are inequivalent to any from the list.\n",
    "One more simplification is that the subalgebra $\\hat{\\mathfrak s}_{3.11}$ is a Levi factor of $\\mathfrak a_1$,\n",
    "which is unique in the list, so it has no equivalent subalgebras in the list.\n",
    "\n",
    "\n",
    "The only element of the set $M(\\hat{\\mathfrak s}_{3.6})\\setminus\\{\\hat{\\mathfrak s}_{3.6}\\}$,\n",
    "which is a subalgebra of $\\mathfrak a_1$ is the subalgebra $\\hat{\\mathfrak s}_{3.8}^1$.\n",
    "\n",
    "The only element of the set $M(\\hat{\\mathfrak s}_{3.7})$ distinct form $\\hat{\\mathfrak s}_{3.7}$,\n",
    "is the subalgebra $\\langle E_2,E_3,D\\rangle$, which is equivalent to $\\hat{\\mathfrak s}_{3.10}$ under the action of the matrix $S_1$.\n",
    "\n",
    "\n",
    "For any fixed value of $\\gamma$ with $\\gamma\\ne1$ the only elements of the set $M(\\hat{\\mathfrak s}_{3.8}^\\gamma)$\n",
    "distinct from $\\hat{\\mathfrak s}_{3.8}^\\gamma$ that is a subalgebra of $\\mathfrak a_1$\n",
    "is the subalgebra $\\hat{\\mathfrak s}_{3.8}^{\\tilde\\gamma}$ with $\\tilde\\gamma=\\frac{\\gamma+3}{\\gamma-1}$.\n",
    "This is why we can restrict the range of $\\gamma$ to the set $[-1,3]$.\n",
    "\n",
    "\n",
    "By this we obtain the subalgebras $\\hat{\\mathfrak s}_{3.1}$,\n",
    "$\\hat{\\mathfrak s}_{3.2}$,\n",
    "$\\hat{\\mathfrak s}_{3.3}^\\kappa$,\n",
    "$\\hat{\\mathfrak s}_{3.4}^\\varepsilon$,\n",
    "$\\hat{\\mathfrak s}_{3.5}^\\gamma$,\n",
    "$\\hat{\\mathfrak s}_{3.8}^\\mu$ with $\\mu\\in[-1,3]$,\n",
    "$\\hat{\\mathfrak s}_{3.9}$,\n",
    "$\\hat{\\mathfrak s}_{3.10}$\n",
    "and  $\\hat{\\mathfrak s}_{3.11}$.\n"
   ]
  },
  {
   "cell_type": "code",
   "execution_count": 18,
   "id": "a6f84c99-6527-4c4e-b76e-c8a7a92dd619",
   "metadata": {},
   "outputs": [
    {
     "data": {
      "text/latex": [
       "$\\displaystyle \\text{Consider the case }\\mathfrak s^*_{3.1}= \\left<E_{1},\\; P_{1},\\; P_{2}\\right>.$"
      ],
      "text/plain": [
       "<IPython.core.display.Math object>"
      ]
     },
     "metadata": {},
     "output_type": "display_data"
    },
    {
     "data": {
      "text/latex": [
       "$\\displaystyle \\text{For arbitrary subalgebra parameters,}$"
      ],
      "text/plain": [
       "<IPython.core.display.Math object>"
      ]
     },
     "metadata": {},
     "output_type": "display_data"
    },
    {
     "data": {
      "text/latex": [
       "$\\displaystyle \\text{acting by the matrix} \\left(\\begin{array}{rrr}\n",
       "1 & 0 & 0 \\\\\n",
       "0 & 1 & 0 \\\\\n",
       "0 & 0 & 1\n",
       "\\end{array}\\right) \\text{, we obtain the subalgebra \\;} \\left<E_{1},\\; P_{1},\\; P_{2}\\right>.$"
      ],
      "text/plain": [
       "<IPython.core.display.Math object>"
      ]
     },
     "metadata": {},
     "output_type": "display_data"
    },
    {
     "name": "stdout",
     "output_type": "stream",
     "text": [
      "\n",
      "\n",
      "\n",
      "\n"
     ]
    },
    {
     "data": {
      "text/latex": [
       "$\\displaystyle \\text{Consider the case }\\mathfrak s^*_{3.2}= \\left<D,\\; P_{1},\\; P_{2}\\right>.$"
      ],
      "text/plain": [
       "<IPython.core.display.Math object>"
      ]
     },
     "metadata": {},
     "output_type": "display_data"
    },
    {
     "data": {
      "text/latex": [
       "$\\displaystyle \\text{For arbitrary subalgebra parameters,}$"
      ],
      "text/plain": [
       "<IPython.core.display.Math object>"
      ]
     },
     "metadata": {},
     "output_type": "display_data"
    },
    {
     "data": {
      "text/latex": [
       "$\\displaystyle \\text{acting by the matrix} \\left(\\begin{array}{rrr}\n",
       "1 & 0 & 0 \\\\\n",
       "0 & 1 & 0 \\\\\n",
       "0 & 0 & 1\n",
       "\\end{array}\\right) \\text{, we obtain the subalgebra \\;} \\left<D,\\; P_{1},\\; P_{2}\\right>.$"
      ],
      "text/plain": [
       "<IPython.core.display.Math object>"
      ]
     },
     "metadata": {},
     "output_type": "display_data"
    },
    {
     "name": "stdout",
     "output_type": "stream",
     "text": [
      "\n",
      "\n",
      "\n",
      "\n"
     ]
    },
    {
     "data": {
      "text/latex": [
       "$\\displaystyle \\text{Consider the case }\\mathfrak s^*_{3.3}= \\left<D κ + E_{2},\\; P_{1},\\; P_{2}\\right>.$"
      ],
      "text/plain": [
       "<IPython.core.display.Math object>"
      ]
     },
     "metadata": {},
     "output_type": "display_data"
    },
    {
     "data": {
      "text/latex": [
       "$\\displaystyle \\text{For arbitrary subalgebra parameters,}$"
      ],
      "text/plain": [
       "<IPython.core.display.Math object>"
      ]
     },
     "metadata": {},
     "output_type": "display_data"
    },
    {
     "data": {
      "text/latex": [
       "$\\displaystyle \\text{acting by the matrix} \\left(\\begin{array}{rrr}\n",
       "1 & 0 & 0 \\\\\n",
       "0 & 1 & 0 \\\\\n",
       "0 & 0 & 1\n",
       "\\end{array}\\right) \\text{, we obtain the subalgebra \\;} \\left<D κ + E_{2},\\; P_{1},\\; P_{2}\\right>.$"
      ],
      "text/plain": [
       "<IPython.core.display.Math object>"
      ]
     },
     "metadata": {},
     "output_type": "display_data"
    },
    {
     "name": "stdout",
     "output_type": "stream",
     "text": [
      "\n",
      "\n",
      "\n",
      "\n"
     ]
    },
    {
     "data": {
      "text/latex": [
       "$\\displaystyle \\text{Consider the case }\\mathfrak s^*_{3.4}= \\left<D ε + E_{1},\\; P_{1},\\; P_{2}\\right>.$"
      ],
      "text/plain": [
       "<IPython.core.display.Math object>"
      ]
     },
     "metadata": {},
     "output_type": "display_data"
    },
    {
     "data": {
      "text/latex": [
       "$\\displaystyle \\text{For arbitrary subalgebra parameters,}$"
      ],
      "text/plain": [
       "<IPython.core.display.Math object>"
      ]
     },
     "metadata": {},
     "output_type": "display_data"
    },
    {
     "data": {
      "text/latex": [
       "$\\displaystyle \\text{acting by the matrix} \\left(\\begin{array}{rrr}\n",
       "1 & 0 & 0 \\\\\n",
       "0 & 1 & 0 \\\\\n",
       "0 & 0 & 1\n",
       "\\end{array}\\right) \\text{, we obtain the subalgebra \\;} \\left<D ε + E_{1},\\; P_{1},\\; P_{2}\\right>.$"
      ],
      "text/plain": [
       "<IPython.core.display.Math object>"
      ]
     },
     "metadata": {},
     "output_type": "display_data"
    },
    {
     "name": "stdout",
     "output_type": "stream",
     "text": [
      "\n",
      "\n",
      "\n",
      "\n"
     ]
    },
    {
     "data": {
      "text/latex": [
       "$\\displaystyle \\text{Consider the case }\\mathfrak s^*_{3.5}= \\left<D γ + E_{1} + E_{3},\\; P_{1},\\; P_{2}\\right>.$"
      ],
      "text/plain": [
       "<IPython.core.display.Math object>"
      ]
     },
     "metadata": {},
     "output_type": "display_data"
    },
    {
     "data": {
      "text/latex": [
       "$\\displaystyle \\text{For arbitrary subalgebra parameters,}$"
      ],
      "text/plain": [
       "<IPython.core.display.Math object>"
      ]
     },
     "metadata": {},
     "output_type": "display_data"
    },
    {
     "data": {
      "text/latex": [
       "$\\displaystyle \\text{acting by the matrix} \\left(\\begin{array}{rrr}\n",
       "1 & 0 & 0 \\\\\n",
       "0 & 1 & 0 \\\\\n",
       "0 & 0 & 1\n",
       "\\end{array}\\right) \\text{, we obtain the subalgebra \\;} \\left<D γ + E_{1} + E_{3},\\; P_{1},\\; P_{2}\\right>.$"
      ],
      "text/plain": [
       "<IPython.core.display.Math object>"
      ]
     },
     "metadata": {},
     "output_type": "display_data"
    },
    {
     "name": "stdout",
     "output_type": "stream",
     "text": [
      "\n",
      "\n",
      "\n",
      "\n"
     ]
    },
    {
     "data": {
      "text/latex": [
       "$\\displaystyle \\text{Consider the case }\\mathfrak s^*_{3.6}= \\left<E_{1},\\; D,\\; P_{2}\\right>.$"
      ],
      "text/plain": [
       "<IPython.core.display.Math object>"
      ]
     },
     "metadata": {},
     "output_type": "display_data"
    },
    {
     "data": {
      "text/latex": [
       "$\\displaystyle \\text{For arbitrary subalgebra parameters,}$"
      ],
      "text/plain": [
       "<IPython.core.display.Math object>"
      ]
     },
     "metadata": {},
     "output_type": "display_data"
    },
    {
     "data": {
      "text/latex": [
       "$\\displaystyle \\text{acting by the matrix} \\left(\\begin{array}{rrr}\n",
       "1 & 0 & 0 \\\\\n",
       "0 & 1 & 0 \\\\\n",
       "0 & 0 & 1\n",
       "\\end{array}\\right) \\text{, we obtain the subalgebra \\;} \\left<E_{1},\\; D,\\; P_{2}\\right>.$"
      ],
      "text/plain": [
       "<IPython.core.display.Math object>"
      ]
     },
     "metadata": {},
     "output_type": "display_data"
    },
    {
     "data": {
      "text/latex": [
       "$\\displaystyle \\text{For arbitrary subalgebra parameters,}$"
      ],
      "text/plain": [
       "<IPython.core.display.Math object>"
      ]
     },
     "metadata": {},
     "output_type": "display_data"
    },
    {
     "data": {
      "text/latex": [
       "$\\displaystyle \\text{acting by the matrix} \\left(\\begin{array}{rrr}\n",
       "0 & 0 & -1 \\\\\n",
       "0 & 1 & 0 \\\\\n",
       "1 & 0 & 0\n",
       "\\end{array}\\right) \\text{, we obtain the subalgebra \\;} \\left<P_{2},\\; -\\frac{1}{2} \\, D - \\frac{1}{2} \\, E_{2},\\; -E_{1}\\right>.$"
      ],
      "text/plain": [
       "<IPython.core.display.Math object>"
      ]
     },
     "metadata": {},
     "output_type": "display_data"
    },
    {
     "name": "stdout",
     "output_type": "stream",
     "text": [
      "\n",
      "\n",
      "\n",
      "\n"
     ]
    },
    {
     "data": {
      "text/latex": [
       "$\\displaystyle \\text{Consider the case }\\mathfrak s^*_{3.7}= \\left<E_{2},\\; D,\\; P_{1}\\right>.$"
      ],
      "text/plain": [
       "<IPython.core.display.Math object>"
      ]
     },
     "metadata": {},
     "output_type": "display_data"
    },
    {
     "data": {
      "text/latex": [
       "$\\displaystyle \\text{For arbitrary subalgebra parameters,}$"
      ],
      "text/plain": [
       "<IPython.core.display.Math object>"
      ]
     },
     "metadata": {},
     "output_type": "display_data"
    },
    {
     "data": {
      "text/latex": [
       "$\\displaystyle \\text{acting by the matrix} \\left(\\begin{array}{rrr}\n",
       "1 & 0 & 0 \\\\\n",
       "0 & 1 & 0 \\\\\n",
       "0 & 0 & 1\n",
       "\\end{array}\\right) \\text{, we obtain the subalgebra \\;} \\left<E_{2},\\; D,\\; P_{1}\\right>.$"
      ],
      "text/plain": [
       "<IPython.core.display.Math object>"
      ]
     },
     "metadata": {},
     "output_type": "display_data"
    },
    {
     "data": {
      "text/latex": [
       "$\\displaystyle \\text{For arbitrary subalgebra parameters,}$"
      ],
      "text/plain": [
       "<IPython.core.display.Math object>"
      ]
     },
     "metadata": {},
     "output_type": "display_data"
    },
    {
     "data": {
      "text/latex": [
       "$\\displaystyle \\text{acting by the matrix} \\left(\\begin{array}{rrr}\n",
       "-1 & 0 & 0 \\\\\n",
       "0 & 0 & 1 \\\\\n",
       "0 & 1 & 0\n",
       "\\end{array}\\right) \\text{, we obtain the subalgebra \\;} \\left<\\frac{3}{2} \\, D + \\frac{1}{2} \\, E_{2},\\; -\\frac{1}{2} \\, D + \\frac{1}{2} \\, E_{2},\\; E_{3}\\right>.$"
      ],
      "text/plain": [
       "<IPython.core.display.Math object>"
      ]
     },
     "metadata": {},
     "output_type": "display_data"
    },
    {
     "name": "stdout",
     "output_type": "stream",
     "text": [
      "\n",
      "\n",
      "\n",
      "\n"
     ]
    },
    {
     "data": {
      "text/latex": [
       "$\\displaystyle \\text{Consider the case }\\mathfrak s^*_{3.8}= \\left<D γ + E_{2},\\; E_{1},\\; P_{2}\\right>.$"
      ],
      "text/plain": [
       "<IPython.core.display.Math object>"
      ]
     },
     "metadata": {},
     "output_type": "display_data"
    },
    {
     "data": {
      "text/latex": [
       "$\\displaystyle \\text{For arbitrary subalgebra parameters,}$"
      ],
      "text/plain": [
       "<IPython.core.display.Math object>"
      ]
     },
     "metadata": {},
     "output_type": "display_data"
    },
    {
     "data": {
      "text/latex": [
       "$\\displaystyle \\text{acting by the matrix} \\left(\\begin{array}{rrr}\n",
       "1 & 0 & 0 \\\\\n",
       "0 & 1 & 0 \\\\\n",
       "0 & 0 & 1\n",
       "\\end{array}\\right) \\text{, we obtain the subalgebra \\;} \\left<D γ + E_{2},\\; E_{1},\\; P_{2}\\right>.$"
      ],
      "text/plain": [
       "<IPython.core.display.Math object>"
      ]
     },
     "metadata": {},
     "output_type": "display_data"
    },
    {
     "data": {
      "text/latex": [
       "$\\displaystyle \\text{In the case } γ = \\left(-1\\right) ,$"
      ],
      "text/plain": [
       "<IPython.core.display.Math object>"
      ]
     },
     "metadata": {},
     "output_type": "display_data"
    },
    {
     "data": {
      "text/latex": [
       "$\\displaystyle \\text{acting by the matrix} \\left(\\begin{array}{rrr}\n",
       "1 & 0 & 0 \\\\\n",
       "0 & 1 & 0 \\\\\n",
       "c_{1} & 0 & 1\n",
       "\\end{array}\\right) \\text{, we obtain the subalgebra \\;} \\left<-D + E_{2},\\; E_{1},\\; -E_{1} c_{1} + P_{2}\\right>.$"
      ],
      "text/plain": [
       "<IPython.core.display.Math object>"
      ]
     },
     "metadata": {},
     "output_type": "display_data"
    },
    {
     "data": {
      "text/latex": [
       "$\\displaystyle \\text{For arbitrary subalgebra parameters,}$"
      ],
      "text/plain": [
       "<IPython.core.display.Math object>"
      ]
     },
     "metadata": {},
     "output_type": "display_data"
    },
    {
     "data": {
      "text/latex": [
       "$\\displaystyle \\text{acting by the matrix} \\left(\\begin{array}{rrr}\n",
       "0 & 0 & -1 \\\\\n",
       "0 & 1 & 0 \\\\\n",
       "1 & 0 & 0\n",
       "\\end{array}\\right) \\text{, we obtain the subalgebra \\;} \\left<-\\frac{1}{2} \\, D {\\left(γ + 3\\right)} - \\frac{1}{2} \\, E_{2} {\\left(γ - 1\\right)},\\; P_{2},\\; -E_{1}\\right>.$"
      ],
      "text/plain": [
       "<IPython.core.display.Math object>"
      ]
     },
     "metadata": {},
     "output_type": "display_data"
    },
    {
     "data": {
      "text/latex": [
       "$\\displaystyle \\text{In the case } γ = \\left(-1\\right) ,$"
      ],
      "text/plain": [
       "<IPython.core.display.Math object>"
      ]
     },
     "metadata": {},
     "output_type": "display_data"
    },
    {
     "data": {
      "text/latex": [
       "$\\displaystyle \\text{acting by the matrix} \\left(\\begin{array}{rrr}\n",
       "0 & 0 & -1 \\\\\n",
       "0 & 1 & 0 \\\\\n",
       "1 & 0 & c_{2}\n",
       "\\end{array}\\right) \\text{, we obtain the subalgebra \\;} \\left<-D + E_{2},\\; E_{1} c_{2} + P_{2},\\; -E_{1}\\right>.$"
      ],
      "text/plain": [
       "<IPython.core.display.Math object>"
      ]
     },
     "metadata": {},
     "output_type": "display_data"
    },
    {
     "name": "stdout",
     "output_type": "stream",
     "text": [
      "\n",
      "\n",
      "\n",
      "\n"
     ]
    },
    {
     "data": {
      "text/latex": [
       "$\\displaystyle \\text{Consider the case }\\mathfrak s^*_{3.9}= \\left<-3 \\, D + E_{2},\\; E_{1} + P_{1},\\; P_{2}\\right>.$"
      ],
      "text/plain": [
       "<IPython.core.display.Math object>"
      ]
     },
     "metadata": {},
     "output_type": "display_data"
    },
    {
     "data": {
      "text/latex": [
       "$\\displaystyle \\text{For arbitrary subalgebra parameters,}$"
      ],
      "text/plain": [
       "<IPython.core.display.Math object>"
      ]
     },
     "metadata": {},
     "output_type": "display_data"
    },
    {
     "data": {
      "text/latex": [
       "$\\displaystyle \\text{acting by the matrix} \\left(\\begin{array}{rrr}\n",
       "1 & 0 & 0 \\\\\n",
       "0 & 1 & 0 \\\\\n",
       "0 & 0 & 1\n",
       "\\end{array}\\right) \\text{, we obtain the subalgebra \\;} \\left<-3 \\, D + E_{2},\\; E_{1} + P_{1},\\; P_{2}\\right>.$"
      ],
      "text/plain": [
       "<IPython.core.display.Math object>"
      ]
     },
     "metadata": {},
     "output_type": "display_data"
    },
    {
     "name": "stdout",
     "output_type": "stream",
     "text": [
      "\n",
      "\n",
      "\n",
      "\n"
     ]
    },
    {
     "data": {
      "text/latex": [
       "$\\displaystyle \\text{Consider the case }\\mathfrak s^*_{3.10}= \\left<E_{1},\\; E_{2},\\; D\\right>.$"
      ],
      "text/plain": [
       "<IPython.core.display.Math object>"
      ]
     },
     "metadata": {},
     "output_type": "display_data"
    },
    {
     "data": {
      "text/latex": [
       "$\\displaystyle \\text{For arbitrary subalgebra parameters,}$"
      ],
      "text/plain": [
       "<IPython.core.display.Math object>"
      ]
     },
     "metadata": {},
     "output_type": "display_data"
    },
    {
     "data": {
      "text/latex": [
       "$\\displaystyle \\text{acting by the matrix} \\left(\\begin{array}{rrr}\n",
       "1 & 0 & 0 \\\\\n",
       "0 & 1 & 0 \\\\\n",
       "0 & 0 & 1\n",
       "\\end{array}\\right) \\text{, we obtain the subalgebra \\;} \\left<E_{1},\\; E_{2},\\; D\\right>.$"
      ],
      "text/plain": [
       "<IPython.core.display.Math object>"
      ]
     },
     "metadata": {},
     "output_type": "display_data"
    },
    {
     "data": {
      "text/latex": [
       "$\\displaystyle \\text{For arbitrary subalgebra parameters,}$"
      ],
      "text/plain": [
       "<IPython.core.display.Math object>"
      ]
     },
     "metadata": {},
     "output_type": "display_data"
    },
    {
     "data": {
      "text/latex": [
       "$\\displaystyle \\text{acting by the matrix} \\left(\\begin{array}{rrr}\n",
       "0 & 0 & -1 \\\\\n",
       "0 & 1 & 0 \\\\\n",
       "1 & 0 & 0\n",
       "\\end{array}\\right) \\text{, we obtain the subalgebra \\;} \\left<P_{2},\\; -\\frac{3}{2} \\, D + \\frac{1}{2} \\, E_{2},\\; -\\frac{1}{2} \\, D - \\frac{1}{2} \\, E_{2}\\right>.$"
      ],
      "text/plain": [
       "<IPython.core.display.Math object>"
      ]
     },
     "metadata": {},
     "output_type": "display_data"
    },
    {
     "name": "stdout",
     "output_type": "stream",
     "text": [
      "\n",
      "\n",
      "\n",
      "\n"
     ]
    },
    {
     "data": {
      "text/latex": [
       "$\\displaystyle \\text{Consider the case }\\mathfrak s^*_{3.11}= \\left<E_{1},\\; E_{2},\\; E_{3}\\right>.$"
      ],
      "text/plain": [
       "<IPython.core.display.Math object>"
      ]
     },
     "metadata": {},
     "output_type": "display_data"
    },
    {
     "data": {
      "text/latex": [
       "$\\displaystyle \\text{For arbitrary subalgebra parameters,}$"
      ],
      "text/plain": [
       "<IPython.core.display.Math object>"
      ]
     },
     "metadata": {},
     "output_type": "display_data"
    },
    {
     "data": {
      "text/latex": [
       "$\\displaystyle \\text{acting by the matrix} \\left(\\begin{array}{rrr}\n",
       "1 & 0 & 0 \\\\\n",
       "0 & 1 & 0 \\\\\n",
       "0 & 0 & 1\n",
       "\\end{array}\\right) \\text{, we obtain the subalgebra \\;} \\left<E_{1},\\; E_{2},\\; E_{3}\\right>.$"
      ],
      "text/plain": [
       "<IPython.core.display.Math object>"
      ]
     },
     "metadata": {},
     "output_type": "display_data"
    },
    {
     "name": "stdout",
     "output_type": "stream",
     "text": [
      "\n",
      "\n",
      "\n",
      "\n"
     ]
    }
   ],
   "source": [
    "for i in range(len(s_3_bases)):\n",
    "    basis = [substitute_matrices(v, a1_subs) for v in s_3_bases[i]]\n",
    "    display(Math(r'\\text{Consider the case }'+'\\\\mathfrak s^*_{3.'+str(i+1)+'}'+ \n",
    "                 '= \\\\left<{}\\\\right>.'.format(',\\\\; '.join([latex(decompose(v)) for v in basis]))))\n",
    "    solutions = restrict_M_images(basis, restrict_to_a1, M, PARAMS+[c_1, c_2])\n",
    "    for m, s, image in solutions:\n",
    "        display_solution(m, s, image)\n",
    "    print('\\n\\n\\n')"
   ]
  },
  {
   "cell_type": "markdown",
   "id": "1291ec21-0d00-4055-904c-223e668a3c86",
   "metadata": {},
   "source": [
    "$\\boldsymbol{\\rm4 D\\textbf{ and }5D.}$\n",
    "The image under the action of $M$ of any four-dimensional subalgebra $\\hat{\\mathfrak s}_{4.j}^*$ contains only one subalgebra of $\\mathfrak a_1$,\n",
    "the subalgebra  $\\hat{\\mathfrak s}_{4.j}^*$ itself.\n",
    "Thus they are ${\\rm SL}_3(\\mathbb R)$-inequivalent.\n",
    "\n",
    "In the case of five-dimensional subalgebras $\\hat{\\mathfrak s}_{5.1}$ and $\\hat{\\mathfrak s}_{5.2}$,\n",
    "while the former is solvable the latter is not, thus they cannot be conjugate under an inner automorphism."
   ]
  },
  {
   "cell_type": "code",
   "execution_count": 19,
   "id": "a98aaac7-5db0-4544-a5f0-6af9f676ebde",
   "metadata": {},
   "outputs": [
    {
     "data": {
      "text/latex": [
       "$\\displaystyle \\text{Consider the case }\\mathfrak s^*_{4.1}= \\left<E_{1},\\; D,\\; P_{1},\\; P_{2}\\right>.$"
      ],
      "text/plain": [
       "<IPython.core.display.Math object>"
      ]
     },
     "metadata": {},
     "output_type": "display_data"
    },
    {
     "data": {
      "text/latex": [
       "$\\displaystyle \\text{For arbitrary subalgebra parameters,}$"
      ],
      "text/plain": [
       "<IPython.core.display.Math object>"
      ]
     },
     "metadata": {},
     "output_type": "display_data"
    },
    {
     "data": {
      "text/latex": [
       "$\\displaystyle \\text{acting by the matrix} \\left(\\begin{array}{rrr}\n",
       "1 & 0 & 0 \\\\\n",
       "0 & 1 & 0 \\\\\n",
       "0 & 0 & 1\n",
       "\\end{array}\\right) \\text{, we obtain the subalgebra \\;} \\left<E_{1},\\; D,\\; P_{1},\\; P_{2}\\right>.$"
      ],
      "text/plain": [
       "<IPython.core.display.Math object>"
      ]
     },
     "metadata": {},
     "output_type": "display_data"
    },
    {
     "name": "stdout",
     "output_type": "stream",
     "text": [
      "\n",
      "\n",
      "\n",
      "\n"
     ]
    },
    {
     "data": {
      "text/latex": [
       "$\\displaystyle \\text{Consider the case }\\mathfrak s^*_{4.2}= \\left<E_{2},\\; D,\\; P_{1},\\; P_{2}\\right>.$"
      ],
      "text/plain": [
       "<IPython.core.display.Math object>"
      ]
     },
     "metadata": {},
     "output_type": "display_data"
    },
    {
     "data": {
      "text/latex": [
       "$\\displaystyle \\text{For arbitrary subalgebra parameters,}$"
      ],
      "text/plain": [
       "<IPython.core.display.Math object>"
      ]
     },
     "metadata": {},
     "output_type": "display_data"
    },
    {
     "data": {
      "text/latex": [
       "$\\displaystyle \\text{acting by the matrix} \\left(\\begin{array}{rrr}\n",
       "1 & 0 & 0 \\\\\n",
       "0 & 1 & 0 \\\\\n",
       "0 & 0 & 1\n",
       "\\end{array}\\right) \\text{, we obtain the subalgebra \\;} \\left<E_{2},\\; D,\\; P_{1},\\; P_{2}\\right>.$"
      ],
      "text/plain": [
       "<IPython.core.display.Math object>"
      ]
     },
     "metadata": {},
     "output_type": "display_data"
    },
    {
     "name": "stdout",
     "output_type": "stream",
     "text": [
      "\n",
      "\n",
      "\n",
      "\n"
     ]
    },
    {
     "data": {
      "text/latex": [
       "$\\displaystyle \\text{Consider the case }\\mathfrak s^*_{4.3}= \\left<E_{1} + E_{3},\\; D,\\; P_{1},\\; P_{2}\\right>.$"
      ],
      "text/plain": [
       "<IPython.core.display.Math object>"
      ]
     },
     "metadata": {},
     "output_type": "display_data"
    },
    {
     "data": {
      "text/latex": [
       "$\\displaystyle \\text{For arbitrary subalgebra parameters,}$"
      ],
      "text/plain": [
       "<IPython.core.display.Math object>"
      ]
     },
     "metadata": {},
     "output_type": "display_data"
    },
    {
     "data": {
      "text/latex": [
       "$\\displaystyle \\text{acting by the matrix} \\left(\\begin{array}{rrr}\n",
       "1 & 0 & 0 \\\\\n",
       "0 & 1 & 0 \\\\\n",
       "0 & 0 & 1\n",
       "\\end{array}\\right) \\text{, we obtain the subalgebra \\;} \\left<E_{1} + E_{3},\\; D,\\; P_{1},\\; P_{2}\\right>.$"
      ],
      "text/plain": [
       "<IPython.core.display.Math object>"
      ]
     },
     "metadata": {},
     "output_type": "display_data"
    },
    {
     "name": "stdout",
     "output_type": "stream",
     "text": [
      "\n",
      "\n",
      "\n",
      "\n"
     ]
    },
    {
     "data": {
      "text/latex": [
       "$\\displaystyle \\text{Consider the case }\\mathfrak s^*_{4.4}= \\left<D γ + E_{2},\\; E_{1},\\; P_{1},\\; P_{2}\\right>.$"
      ],
      "text/plain": [
       "<IPython.core.display.Math object>"
      ]
     },
     "metadata": {},
     "output_type": "display_data"
    },
    {
     "data": {
      "text/latex": [
       "$\\displaystyle \\text{For arbitrary subalgebra parameters,}$"
      ],
      "text/plain": [
       "<IPython.core.display.Math object>"
      ]
     },
     "metadata": {},
     "output_type": "display_data"
    },
    {
     "data": {
      "text/latex": [
       "$\\displaystyle \\text{acting by the matrix} \\left(\\begin{array}{rrr}\n",
       "1 & 0 & 0 \\\\\n",
       "0 & 1 & 0 \\\\\n",
       "0 & 0 & 1\n",
       "\\end{array}\\right) \\text{, we obtain the subalgebra \\;} \\left<D γ + E_{2},\\; E_{1},\\; P_{1},\\; P_{2}\\right>.$"
      ],
      "text/plain": [
       "<IPython.core.display.Math object>"
      ]
     },
     "metadata": {},
     "output_type": "display_data"
    },
    {
     "name": "stdout",
     "output_type": "stream",
     "text": [
      "\n",
      "\n",
      "\n",
      "\n"
     ]
    },
    {
     "data": {
      "text/latex": [
       "$\\displaystyle \\text{Consider the case }\\mathfrak s^*_{4.5}= \\left<E_{1},\\; E_{2},\\; D,\\; P_{2}\\right>.$"
      ],
      "text/plain": [
       "<IPython.core.display.Math object>"
      ]
     },
     "metadata": {},
     "output_type": "display_data"
    },
    {
     "data": {
      "text/latex": [
       "$\\displaystyle \\text{For arbitrary subalgebra parameters,}$"
      ],
      "text/plain": [
       "<IPython.core.display.Math object>"
      ]
     },
     "metadata": {},
     "output_type": "display_data"
    },
    {
     "data": {
      "text/latex": [
       "$\\displaystyle \\text{acting by the matrix} \\left(\\begin{array}{rrr}\n",
       "1 & 0 & 0 \\\\\n",
       "0 & 1 & 0 \\\\\n",
       "0 & 0 & 1\n",
       "\\end{array}\\right) \\text{, we obtain the subalgebra \\;} \\left<E_{1},\\; E_{2},\\; D,\\; P_{2}\\right>.$"
      ],
      "text/plain": [
       "<IPython.core.display.Math object>"
      ]
     },
     "metadata": {},
     "output_type": "display_data"
    },
    {
     "data": {
      "text/latex": [
       "$\\displaystyle \\text{For arbitrary subalgebra parameters,}$"
      ],
      "text/plain": [
       "<IPython.core.display.Math object>"
      ]
     },
     "metadata": {},
     "output_type": "display_data"
    },
    {
     "data": {
      "text/latex": [
       "$\\displaystyle \\text{acting by the matrix} \\left(\\begin{array}{rrr}\n",
       "0 & 0 & -1 \\\\\n",
       "0 & 1 & 0 \\\\\n",
       "1 & 0 & 0\n",
       "\\end{array}\\right) \\text{, we obtain the subalgebra \\;} \\left<P_{2},\\; -\\frac{3}{2} \\, D + \\frac{1}{2} \\, E_{2},\\; -\\frac{1}{2} \\, D - \\frac{1}{2} \\, E_{2},\\; -E_{1}\\right>.$"
      ],
      "text/plain": [
       "<IPython.core.display.Math object>"
      ]
     },
     "metadata": {},
     "output_type": "display_data"
    },
    {
     "name": "stdout",
     "output_type": "stream",
     "text": [
      "\n",
      "\n",
      "\n",
      "\n"
     ]
    },
    {
     "data": {
      "text/latex": [
       "$\\displaystyle \\text{Consider the case }\\mathfrak s^*_{4.6}= \\left<E_{1},\\; E_{2},\\; E_{3},\\; D\\right>.$"
      ],
      "text/plain": [
       "<IPython.core.display.Math object>"
      ]
     },
     "metadata": {},
     "output_type": "display_data"
    },
    {
     "data": {
      "text/latex": [
       "$\\displaystyle \\text{For arbitrary subalgebra parameters,}$"
      ],
      "text/plain": [
       "<IPython.core.display.Math object>"
      ]
     },
     "metadata": {},
     "output_type": "display_data"
    },
    {
     "data": {
      "text/latex": [
       "$\\displaystyle \\text{acting by the matrix} \\left(\\begin{array}{rrr}\n",
       "1 & 0 & 0 \\\\\n",
       "0 & 1 & 0 \\\\\n",
       "0 & 0 & 1\n",
       "\\end{array}\\right) \\text{, we obtain the subalgebra \\;} \\left<E_{1},\\; E_{2},\\; E_{3},\\; D\\right>.$"
      ],
      "text/plain": [
       "<IPython.core.display.Math object>"
      ]
     },
     "metadata": {},
     "output_type": "display_data"
    },
    {
     "name": "stdout",
     "output_type": "stream",
     "text": [
      "\n",
      "\n",
      "\n",
      "\n"
     ]
    }
   ],
   "source": [
    "for i in range(len(s_4_bases)):\n",
    "    basis = [substitute_matrices(v, a1_subs) for v in s_4_bases[i]]\n",
    "    display(Math(r'\\text{Consider the case }'+'\\\\mathfrak s^*_{4.'+str(i+1)+'}'+ \n",
    "                 '= \\\\left<{}\\\\right>.'.format(',\\\\; '.join([latex(decompose(v)) for v in basis]))))\n",
    "    solutions = restrict_M_images(basis, restrict_to_a1, M, PARAMS+[c_1, c_2])\n",
    "    for m, s, image in solutions:\n",
    "        display_solution(m, s, image)\n",
    "    print('\\n\\n\\n')"
   ]
  },
  {
   "cell_type": "code",
   "execution_count": 20,
   "id": "a9cd466f-e8a3-4f5e-8678-99810a14bbf7",
   "metadata": {},
   "outputs": [
    {
     "data": {
      "text/latex": [
       "$\\displaystyle \\text{Consider the case }\\mathfrak s^*_{5.1}= \\left<E_{1},\\; E_{2},\\; D,\\; P_{1},\\; P_{2}\\right>.$"
      ],
      "text/plain": [
       "<IPython.core.display.Math object>"
      ]
     },
     "metadata": {},
     "output_type": "display_data"
    },
    {
     "data": {
      "text/latex": [
       "$\\displaystyle \\text{For arbitrary subalgebra parameters,}$"
      ],
      "text/plain": [
       "<IPython.core.display.Math object>"
      ]
     },
     "metadata": {},
     "output_type": "display_data"
    },
    {
     "data": {
      "text/latex": [
       "$\\displaystyle \\text{acting by the matrix} \\left(\\begin{array}{rrr}\n",
       "1 & 0 & 0 \\\\\n",
       "0 & 1 & 0 \\\\\n",
       "0 & 0 & 1\n",
       "\\end{array}\\right) \\text{, we obtain the subalgebra \\;} \\left<E_{1},\\; E_{2},\\; D,\\; P_{1},\\; P_{2}\\right>.$"
      ],
      "text/plain": [
       "<IPython.core.display.Math object>"
      ]
     },
     "metadata": {},
     "output_type": "display_data"
    },
    {
     "name": "stdout",
     "output_type": "stream",
     "text": [
      "\n",
      "\n",
      "\n",
      "\n"
     ]
    },
    {
     "data": {
      "text/latex": [
       "$\\displaystyle \\text{Consider the case }\\mathfrak s^*_{5.2}= \\left<E_{1},\\; E_{2},\\; E_{3},\\; P_{1},\\; P_{2}\\right>.$"
      ],
      "text/plain": [
       "<IPython.core.display.Math object>"
      ]
     },
     "metadata": {},
     "output_type": "display_data"
    },
    {
     "data": {
      "text/latex": [
       "$\\displaystyle \\text{For arbitrary subalgebra parameters,}$"
      ],
      "text/plain": [
       "<IPython.core.display.Math object>"
      ]
     },
     "metadata": {},
     "output_type": "display_data"
    },
    {
     "data": {
      "text/latex": [
       "$\\displaystyle \\text{acting by the matrix} \\left(\\begin{array}{rrr}\n",
       "1 & 0 & 0 \\\\\n",
       "0 & 1 & 0 \\\\\n",
       "0 & 0 & 1\n",
       "\\end{array}\\right) \\text{, we obtain the subalgebra \\;} \\left<E_{1},\\; E_{2},\\; E_{3},\\; P_{1},\\; P_{2}\\right>.$"
      ],
      "text/plain": [
       "<IPython.core.display.Math object>"
      ]
     },
     "metadata": {},
     "output_type": "display_data"
    },
    {
     "name": "stdout",
     "output_type": "stream",
     "text": [
      "\n",
      "\n",
      "\n",
      "\n"
     ]
    }
   ],
   "source": [
    "for i in range(len(s_5_bases)):\n",
    "    basis = [substitute_matrices(v, a1_subs) for v in s_5_bases[i]]\n",
    "    display(Math(r'\\text{Consider the case }'+'\\\\mathfrak s^*_{5.'+str(i+1)+'}'+ \n",
    "                 '= \\\\left<{}\\\\right>.'.format(',\\\\; '.join([latex(decompose(v)) for v in basis]))))\n",
    "    solutions = restrict_M_images(basis, restrict_to_a1, M, PARAMS+[c_1, c_2])\n",
    "    for m, s, image in solutions:\n",
    "        display_solution(m, s, image)\n",
    "    print('\\n\\n\\n')"
   ]
  },
  {
   "cell_type": "code",
   "execution_count": null,
   "id": "234a23c9-b119-4581-8365-265aa6360225",
   "metadata": {},
   "outputs": [],
   "source": []
  }
 ],
 "metadata": {
  "kernelspec": {
   "display_name": "SageMath 9.5",
   "language": "sage",
   "name": "sagemath"
  },
  "language_info": {
   "codemirror_mode": {
    "name": "ipython",
    "version": 3
   },
   "file_extension": ".py",
   "mimetype": "text/x-python",
   "name": "python",
   "nbconvert_exporter": "python",
   "pygments_lexer": "ipython3",
   "version": "3.10.12"
  }
 },
 "nbformat": 4,
 "nbformat_minor": 5
}
